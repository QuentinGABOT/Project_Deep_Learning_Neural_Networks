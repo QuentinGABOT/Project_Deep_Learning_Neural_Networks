{
  "nbformat": 4,
  "nbformat_minor": 0,
  "metadata": {
    "colab": {
      "name": "703289_Quentin_GABOT.ipynb",
      "provenance": [],
      "collapsed_sections": []
    },
    "kernelspec": {
      "name": "python3",
      "display_name": "Python 3"
    },
    "accelerator": "GPU"
  },
  "cells": [
    {
      "cell_type": "markdown",
      "metadata": {
        "id": "5wd5pAKDsY_I"
      },
      "source": [
        "# Preprocessing"
      ]
    },
    {
      "cell_type": "code",
      "metadata": {
        "colab": {
          "resources": {
            "http://localhost:8080/nbextensions/google.colab/files.js": {
              "data": "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",
              "ok": true,
              "headers": [
                [
                  "content-type",
                  "application/javascript"
                ]
              ],
              "status": 200,
              "status_text": ""
            }
          },
          "base_uri": "https://localhost:8080/",
          "height": 73
        },
        "id": "uBPSGzehm8vv",
        "outputId": "2338330e-06d3-4308-8255-fe19abd72ac8"
      },
      "source": [
        "import pandas as pd\n",
        "import io\n",
        "from google.colab import files\n",
        "import sklearn\n",
        "import tensorflow as tf\n",
        "from tensorflow import keras\n",
        "from keras.utils import to_categorical\n",
        "import matplotlib.pyplot as plt\n",
        "from keras.optimizers import SGD\n",
        "                                              \n",
        "uploaded = files.upload()"
      ],
      "execution_count": null,
      "outputs": [
        {
          "output_type": "display_data",
          "data": {
            "text/html": [
              "\n",
              "     <input type=\"file\" id=\"files-519daffa-b559-4f42-93a9-34599ed307b6\" name=\"files[]\" multiple disabled\n",
              "        style=\"border:none\" />\n",
              "     <output id=\"result-519daffa-b559-4f42-93a9-34599ed307b6\">\n",
              "      Upload widget is only available when the cell has been executed in the\n",
              "      current browser session. Please rerun this cell to enable.\n",
              "      </output>\n",
              "      <script src=\"/nbextensions/google.colab/files.js\"></script> "
            ],
            "text/plain": [
              "<IPython.core.display.HTML object>"
            ]
          },
          "metadata": {
            "tags": []
          }
        },
        {
          "output_type": "stream",
          "text": [
            "Saving phpbL6t4U_train_9.csv to phpbL6t4U_train_9.csv\n"
          ],
          "name": "stdout"
        }
      ]
    },
    {
      "cell_type": "code",
      "metadata": {
        "id": "xt0z7gPYnF0f"
      },
      "source": [
        "gaz = pd.read_csv(io.BytesIO(uploaded['phpbL6t4U_train_9.csv']), sep =',', header = None)"
      ],
      "execution_count": null,
      "outputs": []
    },
    {
      "cell_type": "code",
      "metadata": {
        "colab": {
          "base_uri": "https://localhost:8080/"
        },
        "id": "_B_7_xOwnMpm",
        "outputId": "e35ef0e8-bcd3-49e0-b1a2-f0af07903b8f"
      },
      "source": [
        "print(gaz.describe())"
      ],
      "execution_count": null,
      "outputs": [
        {
          "output_type": "stream",
          "text": [
            "                 0             1    ...           127           128\n",
            "count   11128.000000  11128.000000  ...  11128.000000  11128.000000\n",
            "mean    50588.007655      6.577531  ...    -16.184329      3.376797\n",
            "std     69399.496233      7.434113  ...     21.243745      1.728313\n",
            "min    -12826.543000      0.176524  ...   -410.152297      1.000000\n",
            "25%      6715.344550      2.283548  ...    -18.928522      2.000000\n",
            "50%     19382.461300      3.871971  ...    -11.737865      3.000000\n",
            "75%     63204.859250      8.502677  ...     -6.462631      5.000000\n",
            "max    668677.085900    171.976380  ...      8.357968      6.000000\n",
            "\n",
            "[8 rows x 129 columns]\n"
          ],
          "name": "stdout"
        }
      ]
    },
    {
      "cell_type": "code",
      "metadata": {
        "colab": {
          "base_uri": "https://localhost:8080/",
          "height": 247
        },
        "id": "899RrHPPnOLe",
        "outputId": "45c88753-b9bc-4c62-b3a6-63ee4ee1a167"
      },
      "source": [
        "gaz.head(5)"
      ],
      "execution_count": null,
      "outputs": [
        {
          "output_type": "execute_result",
          "data": {
            "text/html": [
              "<div>\n",
              "<style scoped>\n",
              "    .dataframe tbody tr th:only-of-type {\n",
              "        vertical-align: middle;\n",
              "    }\n",
              "\n",
              "    .dataframe tbody tr th {\n",
              "        vertical-align: top;\n",
              "    }\n",
              "\n",
              "    .dataframe thead th {\n",
              "        text-align: right;\n",
              "    }\n",
              "</style>\n",
              "<table border=\"1\" class=\"dataframe\">\n",
              "  <thead>\n",
              "    <tr style=\"text-align: right;\">\n",
              "      <th></th>\n",
              "      <th>0</th>\n",
              "      <th>1</th>\n",
              "      <th>2</th>\n",
              "      <th>3</th>\n",
              "      <th>4</th>\n",
              "      <th>5</th>\n",
              "      <th>6</th>\n",
              "      <th>7</th>\n",
              "      <th>8</th>\n",
              "      <th>9</th>\n",
              "      <th>10</th>\n",
              "      <th>11</th>\n",
              "      <th>12</th>\n",
              "      <th>13</th>\n",
              "      <th>14</th>\n",
              "      <th>15</th>\n",
              "      <th>16</th>\n",
              "      <th>17</th>\n",
              "      <th>18</th>\n",
              "      <th>19</th>\n",
              "      <th>20</th>\n",
              "      <th>21</th>\n",
              "      <th>22</th>\n",
              "      <th>23</th>\n",
              "      <th>24</th>\n",
              "      <th>25</th>\n",
              "      <th>26</th>\n",
              "      <th>27</th>\n",
              "      <th>28</th>\n",
              "      <th>29</th>\n",
              "      <th>30</th>\n",
              "      <th>31</th>\n",
              "      <th>32</th>\n",
              "      <th>33</th>\n",
              "      <th>34</th>\n",
              "      <th>35</th>\n",
              "      <th>36</th>\n",
              "      <th>37</th>\n",
              "      <th>38</th>\n",
              "      <th>39</th>\n",
              "      <th>...</th>\n",
              "      <th>89</th>\n",
              "      <th>90</th>\n",
              "      <th>91</th>\n",
              "      <th>92</th>\n",
              "      <th>93</th>\n",
              "      <th>94</th>\n",
              "      <th>95</th>\n",
              "      <th>96</th>\n",
              "      <th>97</th>\n",
              "      <th>98</th>\n",
              "      <th>99</th>\n",
              "      <th>100</th>\n",
              "      <th>101</th>\n",
              "      <th>102</th>\n",
              "      <th>103</th>\n",
              "      <th>104</th>\n",
              "      <th>105</th>\n",
              "      <th>106</th>\n",
              "      <th>107</th>\n",
              "      <th>108</th>\n",
              "      <th>109</th>\n",
              "      <th>110</th>\n",
              "      <th>111</th>\n",
              "      <th>112</th>\n",
              "      <th>113</th>\n",
              "      <th>114</th>\n",
              "      <th>115</th>\n",
              "      <th>116</th>\n",
              "      <th>117</th>\n",
              "      <th>118</th>\n",
              "      <th>119</th>\n",
              "      <th>120</th>\n",
              "      <th>121</th>\n",
              "      <th>122</th>\n",
              "      <th>123</th>\n",
              "      <th>124</th>\n",
              "      <th>125</th>\n",
              "      <th>126</th>\n",
              "      <th>127</th>\n",
              "      <th>128</th>\n",
              "    </tr>\n",
              "  </thead>\n",
              "  <tbody>\n",
              "    <tr>\n",
              "      <th>0</th>\n",
              "      <td>14.0652</td>\n",
              "      <td>1.021431</td>\n",
              "      <td>0.076162</td>\n",
              "      <td>0.345285</td>\n",
              "      <td>2.738004</td>\n",
              "      <td>-0.058404</td>\n",
              "      <td>-0.277899</td>\n",
              "      <td>-2.333253</td>\n",
              "      <td>1536.7488</td>\n",
              "      <td>1.400258</td>\n",
              "      <td>0.503626</td>\n",
              "      <td>1.049651</td>\n",
              "      <td>4.229569</td>\n",
              "      <td>-0.274414</td>\n",
              "      <td>-0.697501</td>\n",
              "      <td>-4.584853</td>\n",
              "      <td>2354.3862</td>\n",
              "      <td>1.322208</td>\n",
              "      <td>0.861047</td>\n",
              "      <td>1.452642</td>\n",
              "      <td>7.131562</td>\n",
              "      <td>-0.410640</td>\n",
              "      <td>-1.085102</td>\n",
              "      <td>-7.057642</td>\n",
              "      <td>2562.4917</td>\n",
              "      <td>1.324152</td>\n",
              "      <td>0.961666</td>\n",
              "      <td>1.546818</td>\n",
              "      <td>6.892549</td>\n",
              "      <td>-0.444637</td>\n",
              "      <td>-1.128489</td>\n",
              "      <td>-7.754008</td>\n",
              "      <td>934.0268</td>\n",
              "      <td>1.475627</td>\n",
              "      <td>0.278955</td>\n",
              "      <td>0.682825</td>\n",
              "      <td>4.245845</td>\n",
              "      <td>-0.176600</td>\n",
              "      <td>-0.486719</td>\n",
              "      <td>-3.482637</td>\n",
              "      <td>...</td>\n",
              "      <td>1.235104</td>\n",
              "      <td>0.505597</td>\n",
              "      <td>0.873333</td>\n",
              "      <td>4.071564</td>\n",
              "      <td>-0.271055</td>\n",
              "      <td>-0.614935</td>\n",
              "      <td>-3.671637</td>\n",
              "      <td>1505.0838</td>\n",
              "      <td>1.585151</td>\n",
              "      <td>0.408910</td>\n",
              "      <td>0.784679</td>\n",
              "      <td>2.616234</td>\n",
              "      <td>-0.256397</td>\n",
              "      <td>-0.532460</td>\n",
              "      <td>-3.034191</td>\n",
              "      <td>1624.0852</td>\n",
              "      <td>1.627958</td>\n",
              "      <td>0.444254</td>\n",
              "      <td>0.798408</td>\n",
              "      <td>3.000386</td>\n",
              "      <td>-0.284563</td>\n",
              "      <td>-0.567359</td>\n",
              "      <td>-2.999751</td>\n",
              "      <td>2184.0698</td>\n",
              "      <td>1.347984</td>\n",
              "      <td>0.539084</td>\n",
              "      <td>0.898619</td>\n",
              "      <td>3.878992</td>\n",
              "      <td>-0.389906</td>\n",
              "      <td>-0.785156</td>\n",
              "      <td>-4.407278</td>\n",
              "      <td>1973.4453</td>\n",
              "      <td>1.360274</td>\n",
              "      <td>0.494020</td>\n",
              "      <td>0.873188</td>\n",
              "      <td>3.694443</td>\n",
              "      <td>-0.344503</td>\n",
              "      <td>-0.655650</td>\n",
              "      <td>-3.430285</td>\n",
              "      <td>3</td>\n",
              "    </tr>\n",
              "    <tr>\n",
              "      <th>1</th>\n",
              "      <td>4046.4018</td>\n",
              "      <td>1.744527</td>\n",
              "      <td>1.227569</td>\n",
              "      <td>1.813976</td>\n",
              "      <td>4.431709</td>\n",
              "      <td>-0.907550</td>\n",
              "      <td>-1.247994</td>\n",
              "      <td>-3.670596</td>\n",
              "      <td>7687.0108</td>\n",
              "      <td>2.549173</td>\n",
              "      <td>2.557602</td>\n",
              "      <td>3.861304</td>\n",
              "      <td>6.452142</td>\n",
              "      <td>-1.721194</td>\n",
              "      <td>-2.260036</td>\n",
              "      <td>-4.635464</td>\n",
              "      <td>18101.8657</td>\n",
              "      <td>10.910528</td>\n",
              "      <td>6.585194</td>\n",
              "      <td>10.377547</td>\n",
              "      <td>12.737590</td>\n",
              "      <td>-3.237315</td>\n",
              "      <td>-4.849945</td>\n",
              "      <td>-10.359915</td>\n",
              "      <td>20147.2206</td>\n",
              "      <td>11.360018</td>\n",
              "      <td>7.268149</td>\n",
              "      <td>11.325731</td>\n",
              "      <td>13.652203</td>\n",
              "      <td>-3.514875</td>\n",
              "      <td>-5.198500</td>\n",
              "      <td>-10.095357</td>\n",
              "      <td>6221.3495</td>\n",
              "      <td>6.448052</td>\n",
              "      <td>2.348059</td>\n",
              "      <td>4.621311</td>\n",
              "      <td>6.471085</td>\n",
              "      <td>-1.537581</td>\n",
              "      <td>-2.600977</td>\n",
              "      <td>-4.838204</td>\n",
              "      <td>...</td>\n",
              "      <td>8.382372</td>\n",
              "      <td>5.347558</td>\n",
              "      <td>8.306079</td>\n",
              "      <td>10.453390</td>\n",
              "      <td>-2.569729</td>\n",
              "      <td>-3.975129</td>\n",
              "      <td>-8.398585</td>\n",
              "      <td>6721.1780</td>\n",
              "      <td>7.519613</td>\n",
              "      <td>2.485778</td>\n",
              "      <td>4.715077</td>\n",
              "      <td>7.852208</td>\n",
              "      <td>-1.729003</td>\n",
              "      <td>-3.030043</td>\n",
              "      <td>-6.016871</td>\n",
              "      <td>7395.4884</td>\n",
              "      <td>8.357009</td>\n",
              "      <td>2.652364</td>\n",
              "      <td>4.809075</td>\n",
              "      <td>8.956217</td>\n",
              "      <td>-1.960666</td>\n",
              "      <td>-3.311898</td>\n",
              "      <td>-6.659602</td>\n",
              "      <td>13536.1324</td>\n",
              "      <td>6.299667</td>\n",
              "      <td>6.904400</td>\n",
              "      <td>13.749932</td>\n",
              "      <td>18.433950</td>\n",
              "      <td>-3.106225</td>\n",
              "      <td>-5.405381</td>\n",
              "      <td>-11.371179</td>\n",
              "      <td>12122.2839</td>\n",
              "      <td>6.135079</td>\n",
              "      <td>6.115637</td>\n",
              "      <td>12.161950</td>\n",
              "      <td>15.576468</td>\n",
              "      <td>-2.743554</td>\n",
              "      <td>-4.836195</td>\n",
              "      <td>-8.346636</td>\n",
              "      <td>3</td>\n",
              "    </tr>\n",
              "    <tr>\n",
              "      <th>2</th>\n",
              "      <td>4918.8169</td>\n",
              "      <td>2.192877</td>\n",
              "      <td>1.541389</td>\n",
              "      <td>2.295607</td>\n",
              "      <td>5.058815</td>\n",
              "      <td>-37.090439</td>\n",
              "      <td>-69.361612</td>\n",
              "      <td>-639.547180</td>\n",
              "      <td>10205.0566</td>\n",
              "      <td>3.586874</td>\n",
              "      <td>3.548987</td>\n",
              "      <td>5.411704</td>\n",
              "      <td>7.586672</td>\n",
              "      <td>-41.941650</td>\n",
              "      <td>-87.272594</td>\n",
              "      <td>-902.250826</td>\n",
              "      <td>20503.7717</td>\n",
              "      <td>11.862207</td>\n",
              "      <td>8.026235</td>\n",
              "      <td>13.373056</td>\n",
              "      <td>16.297328</td>\n",
              "      <td>-13.276188</td>\n",
              "      <td>-21.042029</td>\n",
              "      <td>-47.692397</td>\n",
              "      <td>22728.2268</td>\n",
              "      <td>12.095187</td>\n",
              "      <td>8.824536</td>\n",
              "      <td>14.780699</td>\n",
              "      <td>18.056064</td>\n",
              "      <td>-12.691301</td>\n",
              "      <td>-19.888843</td>\n",
              "      <td>-43.405982</td>\n",
              "      <td>7568.1230</td>\n",
              "      <td>7.245981</td>\n",
              "      <td>2.891934</td>\n",
              "      <td>5.844090</td>\n",
              "      <td>8.032403</td>\n",
              "      <td>-2.989172</td>\n",
              "      <td>-4.897467</td>\n",
              "      <td>-9.675071</td>\n",
              "      <td>...</td>\n",
              "      <td>8.988214</td>\n",
              "      <td>6.454690</td>\n",
              "      <td>10.654522</td>\n",
              "      <td>13.363183</td>\n",
              "      <td>-12.765134</td>\n",
              "      <td>-20.231062</td>\n",
              "      <td>-53.193418</td>\n",
              "      <td>8277.7183</td>\n",
              "      <td>8.628880</td>\n",
              "      <td>3.085191</td>\n",
              "      <td>5.954400</td>\n",
              "      <td>9.541636</td>\n",
              "      <td>-3.308270</td>\n",
              "      <td>-5.662689</td>\n",
              "      <td>-12.164350</td>\n",
              "      <td>9430.4580</td>\n",
              "      <td>9.824441</td>\n",
              "      <td>3.303340</td>\n",
              "      <td>6.221615</td>\n",
              "      <td>9.593928</td>\n",
              "      <td>-2.828776</td>\n",
              "      <td>-4.752476</td>\n",
              "      <td>-8.253733</td>\n",
              "      <td>15106.6431</td>\n",
              "      <td>6.809725</td>\n",
              "      <td>7.883305</td>\n",
              "      <td>16.892547</td>\n",
              "      <td>21.734575</td>\n",
              "      <td>-26.569975</td>\n",
              "      <td>-48.613726</td>\n",
              "      <td>-121.517714</td>\n",
              "      <td>13525.0422</td>\n",
              "      <td>6.697454</td>\n",
              "      <td>7.016928</td>\n",
              "      <td>14.765672</td>\n",
              "      <td>19.271910</td>\n",
              "      <td>-22.234264</td>\n",
              "      <td>-41.372325</td>\n",
              "      <td>-99.788098</td>\n",
              "      <td>3</td>\n",
              "    </tr>\n",
              "    <tr>\n",
              "      <th>3</th>\n",
              "      <td>507.9878</td>\n",
              "      <td>2.130980</td>\n",
              "      <td>0.115009</td>\n",
              "      <td>0.335874</td>\n",
              "      <td>2.598176</td>\n",
              "      <td>-0.052970</td>\n",
              "      <td>-0.263984</td>\n",
              "      <td>-2.729686</td>\n",
              "      <td>41976.7431</td>\n",
              "      <td>4.654036</td>\n",
              "      <td>8.826130</td>\n",
              "      <td>11.512599</td>\n",
              "      <td>19.376149</td>\n",
              "      <td>-6.775106</td>\n",
              "      <td>-10.507401</td>\n",
              "      <td>-35.083440</td>\n",
              "      <td>5938.7854</td>\n",
              "      <td>2.765202</td>\n",
              "      <td>1.358196</td>\n",
              "      <td>2.488345</td>\n",
              "      <td>6.242150</td>\n",
              "      <td>-1.021006</td>\n",
              "      <td>-1.778233</td>\n",
              "      <td>-7.225966</td>\n",
              "      <td>6021.0078</td>\n",
              "      <td>2.687641</td>\n",
              "      <td>1.392464</td>\n",
              "      <td>2.619034</td>\n",
              "      <td>6.993986</td>\n",
              "      <td>-1.024156</td>\n",
              "      <td>-1.790214</td>\n",
              "      <td>-7.424393</td>\n",
              "      <td>1610.6813</td>\n",
              "      <td>1.922122</td>\n",
              "      <td>0.443975</td>\n",
              "      <td>1.123695</td>\n",
              "      <td>4.092391</td>\n",
              "      <td>-0.310566</td>\n",
              "      <td>-0.773011</td>\n",
              "      <td>-4.257648</td>\n",
              "      <td>...</td>\n",
              "      <td>2.699479</td>\n",
              "      <td>1.195207</td>\n",
              "      <td>2.058599</td>\n",
              "      <td>3.611709</td>\n",
              "      <td>-0.914159</td>\n",
              "      <td>-1.440184</td>\n",
              "      <td>-4.026725</td>\n",
              "      <td>2402.3638</td>\n",
              "      <td>2.079635</td>\n",
              "      <td>0.675432</td>\n",
              "      <td>1.579753</td>\n",
              "      <td>3.774505</td>\n",
              "      <td>-0.421480</td>\n",
              "      <td>-0.804022</td>\n",
              "      <td>-3.255582</td>\n",
              "      <td>2442.9395</td>\n",
              "      <td>2.095833</td>\n",
              "      <td>0.686327</td>\n",
              "      <td>1.518545</td>\n",
              "      <td>3.682695</td>\n",
              "      <td>-0.420433</td>\n",
              "      <td>-0.761295</td>\n",
              "      <td>-2.973219</td>\n",
              "      <td>8944.9248</td>\n",
              "      <td>2.988908</td>\n",
              "      <td>1.985467</td>\n",
              "      <td>3.810648</td>\n",
              "      <td>5.979951</td>\n",
              "      <td>-1.591878</td>\n",
              "      <td>-2.548773</td>\n",
              "      <td>-6.014547</td>\n",
              "      <td>7922.0380</td>\n",
              "      <td>2.904511</td>\n",
              "      <td>1.787390</td>\n",
              "      <td>3.324320</td>\n",
              "      <td>6.172905</td>\n",
              "      <td>-1.412451</td>\n",
              "      <td>-2.174529</td>\n",
              "      <td>-5.750028</td>\n",
              "      <td>5</td>\n",
              "    </tr>\n",
              "    <tr>\n",
              "      <th>4</th>\n",
              "      <td>5112.2241</td>\n",
              "      <td>2.198418</td>\n",
              "      <td>1.353879</td>\n",
              "      <td>2.310209</td>\n",
              "      <td>5.475477</td>\n",
              "      <td>-0.812125</td>\n",
              "      <td>-1.406757</td>\n",
              "      <td>-6.040008</td>\n",
              "      <td>26552.0454</td>\n",
              "      <td>4.943071</td>\n",
              "      <td>8.681239</td>\n",
              "      <td>15.247967</td>\n",
              "      <td>20.792647</td>\n",
              "      <td>-4.647062</td>\n",
              "      <td>-6.954448</td>\n",
              "      <td>-21.373610</td>\n",
              "      <td>3730.9099</td>\n",
              "      <td>2.556917</td>\n",
              "      <td>1.317897</td>\n",
              "      <td>2.680950</td>\n",
              "      <td>5.079122</td>\n",
              "      <td>-0.645479</td>\n",
              "      <td>-1.236600</td>\n",
              "      <td>-5.578664</td>\n",
              "      <td>3862.7180</td>\n",
              "      <td>2.503563</td>\n",
              "      <td>1.354679</td>\n",
              "      <td>2.660313</td>\n",
              "      <td>4.946600</td>\n",
              "      <td>-0.655506</td>\n",
              "      <td>-1.237577</td>\n",
              "      <td>-6.050420</td>\n",
              "      <td>1299.5494</td>\n",
              "      <td>1.887818</td>\n",
              "      <td>0.594943</td>\n",
              "      <td>1.826893</td>\n",
              "      <td>3.835093</td>\n",
              "      <td>-0.279749</td>\n",
              "      <td>-0.690598</td>\n",
              "      <td>-4.162843</td>\n",
              "      <td>...</td>\n",
              "      <td>2.629520</td>\n",
              "      <td>1.295020</td>\n",
              "      <td>2.573740</td>\n",
              "      <td>4.636870</td>\n",
              "      <td>-0.662031</td>\n",
              "      <td>-1.025203</td>\n",
              "      <td>-3.800017</td>\n",
              "      <td>2123.6541</td>\n",
              "      <td>2.145076</td>\n",
              "      <td>1.004152</td>\n",
              "      <td>3.108238</td>\n",
              "      <td>5.707613</td>\n",
              "      <td>-0.418697</td>\n",
              "      <td>-0.755775</td>\n",
              "      <td>-3.428350</td>\n",
              "      <td>2162.4587</td>\n",
              "      <td>2.199735</td>\n",
              "      <td>1.017801</td>\n",
              "      <td>3.000515</td>\n",
              "      <td>5.403264</td>\n",
              "      <td>-0.417297</td>\n",
              "      <td>-0.763522</td>\n",
              "      <td>-2.887297</td>\n",
              "      <td>5976.3128</td>\n",
              "      <td>2.850430</td>\n",
              "      <td>2.211785</td>\n",
              "      <td>5.019222</td>\n",
              "      <td>8.005542</td>\n",
              "      <td>-1.040842</td>\n",
              "      <td>-1.678899</td>\n",
              "      <td>-4.368941</td>\n",
              "      <td>5619.3567</td>\n",
              "      <td>2.908217</td>\n",
              "      <td>2.022495</td>\n",
              "      <td>4.596392</td>\n",
              "      <td>7.854706</td>\n",
              "      <td>-0.974328</td>\n",
              "      <td>-1.503261</td>\n",
              "      <td>-4.414163</td>\n",
              "      <td>6</td>\n",
              "    </tr>\n",
              "  </tbody>\n",
              "</table>\n",
              "<p>5 rows × 129 columns</p>\n",
              "</div>"
            ],
            "text/plain": [
              "         0         1         2    ...        126        127  128\n",
              "0    14.0652  1.021431  0.076162  ...  -0.655650  -3.430285    3\n",
              "1  4046.4018  1.744527  1.227569  ...  -4.836195  -8.346636    3\n",
              "2  4918.8169  2.192877  1.541389  ... -41.372325 -99.788098    3\n",
              "3   507.9878  2.130980  0.115009  ...  -2.174529  -5.750028    5\n",
              "4  5112.2241  2.198418  1.353879  ...  -1.503261  -4.414163    6\n",
              "\n",
              "[5 rows x 129 columns]"
            ]
          },
          "metadata": {
            "tags": []
          },
          "execution_count": 115
        }
      ]
    },
    {
      "cell_type": "code",
      "metadata": {
        "id": "5nhF69kOndVP"
      },
      "source": [
        "gaz = sklearn.utils.shuffle(gaz)"
      ],
      "execution_count": null,
      "outputs": []
    },
    {
      "cell_type": "code",
      "metadata": {
        "id": "NVEi3YwSePzv"
      },
      "source": [
        "x = gaz.iloc[:,0:128]"
      ],
      "execution_count": null,
      "outputs": []
    },
    {
      "cell_type": "code",
      "metadata": {
        "id": "VWNPEY0afuoE"
      },
      "source": [
        "y = gaz.iloc[:,-1]"
      ],
      "execution_count": null,
      "outputs": []
    },
    {
      "cell_type": "code",
      "metadata": {
        "id": "PRYIlr4wgdb7"
      },
      "source": [
        "y = to_categorical(y)"
      ],
      "execution_count": null,
      "outputs": []
    },
    {
      "cell_type": "code",
      "metadata": {
        "id": "KfA95NR6jLHZ"
      },
      "source": [
        "n_train = int(len(gaz.index)*0.8)\n",
        "trainX , testX = x[:n_train], x[n_train:]\n",
        "trainy , testy = y[:n_train], y[n_train:]"
      ],
      "execution_count": null,
      "outputs": []
    },
    {
      "cell_type": "markdown",
      "metadata": {
        "id": "vSK9FOissduj"
      },
      "source": [
        "# Fin du preprocessing"
      ]
    },
    {
      "cell_type": "markdown",
      "metadata": {
        "id": "3gpFoxVwtZ-r"
      },
      "source": [
        "# Test du meilleur modèle PARTIE 1 (layers uniquement)"
      ]
    },
    {
      "cell_type": "markdown",
      "metadata": {
        "id": "flrH6dbPBcA5"
      },
      "source": [
        "Nous établissons trois tailles de modèles : original, small, big. Nous testerons sur chacun d'entre eux les régularisations L1, L2 & drop. Nous choissirons le modèle le plus performant pour y appliquer l'optimisation des hyperparamètres."
      ]
    },
    {
      "cell_type": "markdown",
      "metadata": {
        "id": "aSUrsbl0B6EK"
      },
      "source": [
        "## Original model (original, drop, L1, L1 & drop, L2, L2 & drop)"
      ]
    },
    {
      "cell_type": "code",
      "metadata": {
        "id": "GN6PZD9viFXL"
      },
      "source": [
        "original_model = keras.Sequential(\n",
        "    [\n",
        "        keras.layers.Dense(16, activation='relu', input_dim=128),\n",
        "        keras.layers.Dense(16, activation='relu', input_dim=128),\n",
        "        keras.layers.Dense(7, activation='sigmoid')\n",
        "    ]\n",
        ")\n",
        "\n",
        "original_model.compile(optimizer='rmsprop',\n",
        "                       loss='categorical_crossentropy', metrics=[\"acc\"])"
      ],
      "execution_count": null,
      "outputs": []
    },
    {
      "cell_type": "code",
      "metadata": {
        "id": "UJm3NT1P3EwY"
      },
      "source": [
        "drop_model = keras.Sequential(\n",
        "    [\n",
        "        keras.layers.Dense(16, activation='relu', input_dim=128),\n",
        "        keras.layers.Dropout(0.5),\n",
        "        keras.layers.Dense(16, activation='relu', input_dim=128),\n",
        "        keras.layers.Dropout(0.5),\n",
        "        keras.layers.Dense(7, activation='sigmoid')\n",
        "    ]\n",
        ")\n",
        "\n",
        "drop_model.compile(optimizer='rmsprop',\n",
        "                       loss='categorical_crossentropy', metrics=[\"acc\"])"
      ],
      "execution_count": null,
      "outputs": []
    },
    {
      "cell_type": "code",
      "metadata": {
        "id": "xrQDNbDv12xZ"
      },
      "source": [
        "l1_model = keras.Sequential([\n",
        "    keras.layers.Dense(16, activation='relu', input_dim=128, kernel_regularizer= keras.regularizers.l1(0.001)),\n",
        "    keras.layers.Dense(16, activation='relu',  input_dim=128, kernel_regularizer= keras.regularizers.l1(0.001)),\n",
        "    keras.layers.Dense(7, activation='sigmoid')\n",
        "])\n",
        "l1_model.compile(optimizer='rmsprop',\n",
        "                       loss= 'categorical_crossentropy',\n",
        "                       metrics=['acc'])\n"
      ],
      "execution_count": null,
      "outputs": []
    },
    {
      "cell_type": "code",
      "metadata": {
        "id": "L86QdgnB2QBf"
      },
      "source": [
        "l1_model_drop = keras.Sequential([\n",
        "    keras.layers.Dense(16, activation='relu', input_dim=128, kernel_regularizer= keras.regularizers.l1(0.001)),\n",
        "    keras.layers.Dropout(0.5),\n",
        "    keras.layers.Dense(16, activation='relu',  input_dim=128, kernel_regularizer= keras.regularizers.l1(0.001)),\n",
        "    keras.layers.Dropout(0.5),\n",
        "    keras.layers.Dense(7, activation='sigmoid')\n",
        "])\n",
        "l1_model_drop.compile(optimizer='rmsprop',\n",
        "                       loss= 'categorical_crossentropy',\n",
        "                       metrics=['acc'])"
      ],
      "execution_count": null,
      "outputs": []
    },
    {
      "cell_type": "code",
      "metadata": {
        "id": "HDZ-J_kA1WYC"
      },
      "source": [
        "l2_model = keras.Sequential([\n",
        "    keras.layers.Dense(16, activation='relu', input_dim=128, kernel_regularizer= keras.regularizers.l2(0.001)),\n",
        "    keras.layers.Dense(16, activation='relu', input_dim=128, kernel_regularizer= keras.regularizers.l2(0.001)),\n",
        "    keras.layers.Dense(7, activation='sigmoid')\n",
        "])\n",
        "l2_model.compile(optimizer='rmsprop',\n",
        "                       loss= 'categorical_crossentropy',\n",
        "                       metrics=['acc'])\n"
      ],
      "execution_count": null,
      "outputs": []
    },
    {
      "cell_type": "code",
      "metadata": {
        "id": "hgyIqJid7n0q"
      },
      "source": [
        "l2_model_drop = keras.Sequential([\n",
        "    keras.layers.Dense(16, activation='relu', input_dim=128, kernel_regularizer= keras.regularizers.l2(0.001)),\n",
        "    keras.layers.Dropout(0.5),\n",
        "    keras.layers.Dense(16, activation='relu', input_dim=128, kernel_regularizer = keras.regularizers.l2(0.001)),\n",
        "    keras.layers.Dropout(0.5),\n",
        "    keras.layers.Dense(7, activation='sigmoid')\n",
        "])\n",
        "l2_model_drop.compile(optimizer='rmsprop',\n",
        "                       loss= 'categorical_crossentropy',\n",
        "                       metrics=['acc'])\n"
      ],
      "execution_count": null,
      "outputs": []
    },
    {
      "cell_type": "markdown",
      "metadata": {
        "id": "setKubXpCD6x"
      },
      "source": [
        "## Small model (small, drop, L1, L1 & drop, L2, L2 & drop)"
      ]
    },
    {
      "cell_type": "code",
      "metadata": {
        "id": "xwwPu1CtjOqi"
      },
      "source": [
        "smaller_model = keras.Sequential(\n",
        "    [\n",
        "        keras.layers.Dense(4, activation='relu', input_dim=128),\n",
        "        keras.layers.Dense(4, activation='relu', input_dim=128),\n",
        "        keras.layers.Dense(7, activation='sigmoid')\n",
        "    ]\n",
        ")\n",
        "\n",
        "smaller_model.compile(optimizer='rmsprop',\n",
        "                       loss='categorical_crossentropy', metrics=[\"acc\"])"
      ],
      "execution_count": null,
      "outputs": []
    },
    {
      "cell_type": "code",
      "metadata": {
        "id": "7HhnsrWU3QKI"
      },
      "source": [
        "smaller_drop_model = keras.Sequential(\n",
        "    [\n",
        "        keras.layers.Dense(4, activation='relu', input_dim=128),\n",
        "        keras.layers.Dropout(0.5),\n",
        "        keras.layers.Dense(4, activation='relu', input_dim=128),\n",
        "        keras.layers.Dropout(0.5),\n",
        "        keras.layers.Dense(7, activation='sigmoid')\n",
        "    ]\n",
        ")\n",
        "\n",
        "smaller_drop_model.compile(optimizer='rmsprop',\n",
        "                       loss='categorical_crossentropy', metrics=[\"acc\"])"
      ],
      "execution_count": null,
      "outputs": []
    },
    {
      "cell_type": "code",
      "metadata": {
        "id": "nhLOAYX_3QKI"
      },
      "source": [
        "smaller_l1_model = keras.Sequential([\n",
        "    keras.layers.Dense(4, activation='relu', input_dim=128, kernel_regularizer= keras.regularizers.l1(0.001)),\n",
        "    keras.layers.Dense(4, activation='relu',  input_dim=128, kernel_regularizer= keras.regularizers.l1(0.001)),\n",
        "    keras.layers.Dense(7, activation='sigmoid')\n",
        "])\n",
        "smaller_l1_model.compile(optimizer='rmsprop',\n",
        "                       loss= 'categorical_crossentropy',\n",
        "                       metrics=['acc'])\n"
      ],
      "execution_count": null,
      "outputs": []
    },
    {
      "cell_type": "code",
      "metadata": {
        "id": "-vSdPTPD3QKI"
      },
      "source": [
        "smaller_l1_model_drop = keras.Sequential([\n",
        "    keras.layers.Dense(4, activation='relu', input_dim=128, kernel_regularizer= keras.regularizers.l1(0.001)),\n",
        "    keras.layers.Dropout(0.5),\n",
        "    keras.layers.Dense(4, activation='relu',  input_dim=128, kernel_regularizer= keras.regularizers.l1(0.001)),\n",
        "    keras.layers.Dropout(0.5),\n",
        "    keras.layers.Dense(7, activation='sigmoid')\n",
        "])\n",
        "smaller_l1_model_drop.compile(optimizer='rmsprop',\n",
        "                       loss= 'categorical_crossentropy',\n",
        "                       metrics=['acc'])"
      ],
      "execution_count": null,
      "outputs": []
    },
    {
      "cell_type": "code",
      "metadata": {
        "id": "5sGd1lHl3QKJ"
      },
      "source": [
        "smaller_l2_model = keras.Sequential([\n",
        "    keras.layers.Dense(4, activation='relu', input_dim=128, kernel_regularizer= keras.regularizers.l2(0.001)),\n",
        "    keras.layers.Dense(4, activation='relu', input_dim=128, kernel_regularizer= keras.regularizers.l2(0.001)),\n",
        "    keras.layers.Dense(7, activation='sigmoid')\n",
        "])\n",
        "smaller_l2_model.compile(optimizer='rmsprop',\n",
        "                       loss= 'categorical_crossentropy',\n",
        "                       metrics=['acc'])\n"
      ],
      "execution_count": null,
      "outputs": []
    },
    {
      "cell_type": "code",
      "metadata": {
        "id": "lpNSs-ss3QKJ"
      },
      "source": [
        "smaller_l2_model_drop = keras.Sequential([\n",
        "    keras.layers.Dense(4, activation='relu', input_dim=128, kernel_regularizer= keras.regularizers.l2(0.001)),\n",
        "    keras.layers.Dropout(0.5),\n",
        "    keras.layers.Dense(4, activation='relu', input_dim=128, kernel_regularizer = keras.regularizers.l2(0.001)),\n",
        "    keras.layers.Dropout(0.5),\n",
        "    keras.layers.Dense(7, activation='sigmoid')\n",
        "])\n",
        "smaller_l2_model_drop.compile(optimizer='rmsprop',\n",
        "                       loss= 'categorical_crossentropy',\n",
        "                       metrics=['acc'])\n"
      ],
      "execution_count": null,
      "outputs": []
    },
    {
      "cell_type": "markdown",
      "metadata": {
        "id": "TrivS_7ACG6o"
      },
      "source": [
        "## Big model (big, drop, L1, L1 & drop, L2, L2 & drop)"
      ]
    },
    {
      "cell_type": "code",
      "metadata": {
        "id": "YjDHLEVRwc-B"
      },
      "source": [
        "bigger_model = keras.Sequential(\n",
        "    [\n",
        "        keras.layers.Dense(512, activation='relu', input_dim=128),\n",
        "        keras.layers.Dense(512, activation='relu', input_dim=128),\n",
        "        keras.layers.Dense(7, activation='sigmoid')\n",
        "    ]\n",
        ")\n",
        "\n",
        "bigger_model.compile(optimizer='rmsprop',\n",
        "                       loss='categorical_crossentropy', metrics=[\"acc\"])"
      ],
      "execution_count": null,
      "outputs": []
    },
    {
      "cell_type": "code",
      "metadata": {
        "id": "_g4iZt3p3rUT"
      },
      "source": [
        "bigger_drop_model = keras.Sequential(\n",
        "    [\n",
        "        keras.layers.Dense(512, activation='relu', input_dim=128),\n",
        "        keras.layers.Dropout(0.5),\n",
        "        keras.layers.Dense(512, activation='relu', input_dim=128),\n",
        "        keras.layers.Dropout(0.5),\n",
        "        keras.layers.Dense(7, activation='sigmoid')\n",
        "    ]\n",
        ")\n",
        "\n",
        "bigger_drop_model.compile(optimizer='rmsprop',\n",
        "                       loss='categorical_crossentropy', metrics=[\"acc\"])"
      ],
      "execution_count": null,
      "outputs": []
    },
    {
      "cell_type": "code",
      "metadata": {
        "id": "h5StMjUM3rUU"
      },
      "source": [
        "bigger_l1_model = keras.Sequential([\n",
        "    keras.layers.Dense(512, activation='relu', input_dim=128, kernel_regularizer= keras.regularizers.l1(0.001)),\n",
        "    keras.layers.Dense(512, activation='relu',  input_dim=128, kernel_regularizer= keras.regularizers.l1(0.001)),\n",
        "    keras.layers.Dense(7, activation='sigmoid')\n",
        "])\n",
        "bigger_l1_model.compile(optimizer='rmsprop',\n",
        "                       loss= 'categorical_crossentropy',\n",
        "                       metrics=['acc'])\n"
      ],
      "execution_count": null,
      "outputs": []
    },
    {
      "cell_type": "code",
      "metadata": {
        "id": "q05k_vY_3rUU"
      },
      "source": [
        "bigger_l1_model_drop = keras.Sequential([\n",
        "    keras.layers.Dense(512, activation='relu', input_dim=128, kernel_regularizer= keras.regularizers.l1(0.001)),\n",
        "    keras.layers.Dropout(0.5),\n",
        "    keras.layers.Dense(512, activation='relu',  input_dim=128, kernel_regularizer= keras.regularizers.l1(0.001)),\n",
        "    keras.layers.Dropout(0.5),\n",
        "    keras.layers.Dense(7, activation='sigmoid')\n",
        "])\n",
        "bigger_l1_model_drop.compile(optimizer='rmsprop',\n",
        "                       loss= 'categorical_crossentropy',\n",
        "                       metrics=['acc'])"
      ],
      "execution_count": null,
      "outputs": []
    },
    {
      "cell_type": "code",
      "metadata": {
        "id": "lu20Nvzh3rUV"
      },
      "source": [
        "bigger_l2_model = keras.Sequential([\n",
        "    keras.layers.Dense(512, activation='relu', input_dim=128, kernel_regularizer= keras.regularizers.l2(0.001)),\n",
        "    keras.layers.Dense(512, activation='relu', input_dim=128, kernel_regularizer= keras.regularizers.l2(0.001)),\n",
        "    keras.layers.Dense(7, activation='sigmoid')\n",
        "])\n",
        "bigger_l2_model.compile(optimizer='rmsprop',\n",
        "                       loss= 'categorical_crossentropy',\n",
        "                       metrics=['acc'])\n"
      ],
      "execution_count": null,
      "outputs": []
    },
    {
      "cell_type": "code",
      "metadata": {
        "id": "JcoPMhun3rUV"
      },
      "source": [
        "bigger_l2_model_drop = keras.Sequential([\n",
        "    keras.layers.Dense(512, activation='relu', input_dim=128, kernel_regularizer= keras.regularizers.l2(0.001)),\n",
        "    keras.layers.Dropout(0.5),\n",
        "    keras.layers.Dense(512, activation='relu', input_dim=128, kernel_regularizer = keras.regularizers.l2(0.001)),\n",
        "    keras.layers.Dropout(0.5),\n",
        "    keras.layers.Dense(7, activation='sigmoid')\n",
        "])\n",
        "bigger_l2_model_drop.compile(optimizer='rmsprop',\n",
        "                       loss= 'categorical_crossentropy',\n",
        "                       metrics=['acc'])\n"
      ],
      "execution_count": null,
      "outputs": []
    },
    {
      "cell_type": "markdown",
      "metadata": {
        "id": "fUZO0az_CJuR"
      },
      "source": [
        "### Nous lançons le fit sur tous les modèles introduits précedemment et nous récupérons leurs historiques"
      ]
    },
    {
      "cell_type": "markdown",
      "metadata": {
        "id": "YC4iimScCYiO"
      },
      "source": [
        "Original model"
      ]
    },
    {
      "cell_type": "code",
      "metadata": {
        "colab": {
          "base_uri": "https://localhost:8080/"
        },
        "id": "RJoA63zkkmRQ",
        "outputId": "a48df93d-414a-43dd-dcc2-82c8ecdb94a8"
      },
      "source": [
        "original_history = original_model.fit(trainX ,trainy , epochs = 20, batch_size = 512, validation_data=(testX, testy))"
      ],
      "execution_count": null,
      "outputs": [
        {
          "output_type": "stream",
          "text": [
            "Epoch 1/20\n",
            "18/18 [==============================] - 1s 23ms/step - loss: 3828.5332 - acc: 0.1598 - val_loss: 922.3512 - val_acc: 0.4349\n",
            "Epoch 2/20\n",
            "18/18 [==============================] - 0s 6ms/step - loss: 857.2209 - acc: 0.4227 - val_loss: 575.5682 - val_acc: 0.4668\n",
            "Epoch 3/20\n",
            "18/18 [==============================] - 0s 6ms/step - loss: 537.4555 - acc: 0.4559 - val_loss: 369.6241 - val_acc: 0.4982\n",
            "Epoch 4/20\n",
            "18/18 [==============================] - 0s 6ms/step - loss: 357.5750 - acc: 0.5152 - val_loss: 233.0889 - val_acc: 0.6141\n",
            "Epoch 5/20\n",
            "18/18 [==============================] - 0s 7ms/step - loss: 215.6473 - acc: 0.6189 - val_loss: 144.6977 - val_acc: 0.7053\n",
            "Epoch 6/20\n",
            "18/18 [==============================] - 0s 7ms/step - loss: 156.9036 - acc: 0.6843 - val_loss: 95.0350 - val_acc: 0.7749\n",
            "Epoch 7/20\n",
            "18/18 [==============================] - 0s 6ms/step - loss: 112.5622 - acc: 0.7254 - val_loss: 115.0154 - val_acc: 0.7026\n",
            "Epoch 8/20\n",
            "18/18 [==============================] - 0s 6ms/step - loss: 115.7512 - acc: 0.7321 - val_loss: 94.2033 - val_acc: 0.7561\n",
            "Epoch 9/20\n",
            "18/18 [==============================] - 0s 6ms/step - loss: 84.4250 - acc: 0.7682 - val_loss: 53.2552 - val_acc: 0.8023\n",
            "Epoch 10/20\n",
            "18/18 [==============================] - 0s 7ms/step - loss: 71.4844 - acc: 0.7806 - val_loss: 37.2410 - val_acc: 0.8257\n",
            "Epoch 11/20\n",
            "18/18 [==============================] - 0s 7ms/step - loss: 63.7393 - acc: 0.7887 - val_loss: 146.4611 - val_acc: 0.6721\n",
            "Epoch 12/20\n",
            "18/18 [==============================] - 0s 6ms/step - loss: 69.0957 - acc: 0.7828 - val_loss: 45.6653 - val_acc: 0.8100\n",
            "Epoch 13/20\n",
            "18/18 [==============================] - 0s 7ms/step - loss: 55.8606 - acc: 0.8026 - val_loss: 27.8066 - val_acc: 0.8270\n",
            "Epoch 14/20\n",
            "18/18 [==============================] - 0s 7ms/step - loss: 50.8802 - acc: 0.8032 - val_loss: 25.1926 - val_acc: 0.8540\n",
            "Epoch 15/20\n",
            "18/18 [==============================] - 0s 6ms/step - loss: 34.6268 - acc: 0.8418 - val_loss: 58.1644 - val_acc: 0.8293\n",
            "Epoch 16/20\n",
            "18/18 [==============================] - 0s 6ms/step - loss: 34.0697 - acc: 0.8544 - val_loss: 19.6497 - val_acc: 0.8792\n",
            "Epoch 17/20\n",
            "18/18 [==============================] - 0s 6ms/step - loss: 41.8778 - acc: 0.8250 - val_loss: 95.7721 - val_acc: 0.7372\n",
            "Epoch 18/20\n",
            "18/18 [==============================] - 0s 6ms/step - loss: 40.2171 - acc: 0.8346 - val_loss: 35.3698 - val_acc: 0.8504\n",
            "Epoch 19/20\n",
            "18/18 [==============================] - 0s 6ms/step - loss: 35.4573 - acc: 0.8327 - val_loss: 18.4347 - val_acc: 0.8931\n",
            "Epoch 20/20\n",
            "18/18 [==============================] - 0s 6ms/step - loss: 21.1911 - acc: 0.8802 - val_loss: 14.7387 - val_acc: 0.8908\n"
          ],
          "name": "stdout"
        }
      ]
    },
    {
      "cell_type": "code",
      "metadata": {
        "colab": {
          "base_uri": "https://localhost:8080/"
        },
        "id": "re_sUvM6lD6W",
        "outputId": "8ce97f42-cc43-4861-b697-f6470647998f"
      },
      "source": [
        "test_loss_og, test_acc_og = original_model.evaluate(testX ,testy ,verbose = 2)"
      ],
      "execution_count": null,
      "outputs": [
        {
          "output_type": "stream",
          "text": [
            "70/70 - 0s - loss: 14.7387 - acc: 0.8908\n"
          ],
          "name": "stdout"
        }
      ]
    },
    {
      "cell_type": "code",
      "metadata": {
        "colab": {
          "base_uri": "https://localhost:8080/"
        },
        "id": "EEi_044P3liI",
        "outputId": "18e30cf6-0d13-4728-dc92-beebd28a5995"
      },
      "source": [
        "drop_history = drop_model.fit(trainX ,trainy , epochs = 20, batch_size = 512, validation_data=(testX, testy))"
      ],
      "execution_count": null,
      "outputs": [
        {
          "output_type": "stream",
          "text": [
            "Epoch 1/20\n",
            "18/18 [==============================] - 1s 33ms/step - loss: 19543.4247 - acc: 0.1052 - val_loss: 2826.9424 - val_acc: 0.2044\n",
            "Epoch 2/20\n",
            "18/18 [==============================] - 0s 7ms/step - loss: 8299.5983 - acc: 0.1490 - val_loss: 1221.0665 - val_acc: 0.2740\n",
            "Epoch 3/20\n",
            "18/18 [==============================] - 0s 7ms/step - loss: 4479.7173 - acc: 0.1706 - val_loss: 561.6866 - val_acc: 0.2511\n",
            "Epoch 4/20\n",
            "18/18 [==============================] - 0s 6ms/step - loss: 2158.7836 - acc: 0.1740 - val_loss: 182.9732 - val_acc: 0.2516\n",
            "Epoch 5/20\n",
            "18/18 [==============================] - 0s 7ms/step - loss: 750.9286 - acc: 0.1592 - val_loss: 32.7577 - val_acc: 0.1810\n",
            "Epoch 6/20\n",
            "18/18 [==============================] - 0s 8ms/step - loss: 185.1770 - acc: 0.1615 - val_loss: 6.9865 - val_acc: 0.3657\n",
            "Epoch 7/20\n",
            "18/18 [==============================] - 0s 6ms/step - loss: 45.2695 - acc: 0.1756 - val_loss: 3.0298 - val_acc: 0.2866\n",
            "Epoch 8/20\n",
            "18/18 [==============================] - 0s 6ms/step - loss: 8.8500 - acc: 0.2170 - val_loss: 2.1394 - val_acc: 0.2493\n",
            "Epoch 9/20\n",
            "18/18 [==============================] - 0s 6ms/step - loss: 4.1379 - acc: 0.2021 - val_loss: 1.9735 - val_acc: 0.2453\n",
            "Epoch 10/20\n",
            "18/18 [==============================] - 0s 7ms/step - loss: 2.6800 - acc: 0.2087 - val_loss: 1.9492 - val_acc: 0.2376\n",
            "Epoch 11/20\n",
            "18/18 [==============================] - 0s 7ms/step - loss: 2.6002 - acc: 0.1988 - val_loss: 1.9109 - val_acc: 0.2354\n",
            "Epoch 12/20\n",
            "18/18 [==============================] - 0s 6ms/step - loss: 2.2092 - acc: 0.2059 - val_loss: 1.8992 - val_acc: 0.2354\n",
            "Epoch 13/20\n",
            "18/18 [==============================] - 0s 6ms/step - loss: 2.2921 - acc: 0.2070 - val_loss: 1.8978 - val_acc: 0.2350\n",
            "Epoch 14/20\n",
            "18/18 [==============================] - 0s 7ms/step - loss: 2.0368 - acc: 0.2077 - val_loss: 1.8930 - val_acc: 0.2345\n",
            "Epoch 15/20\n",
            "18/18 [==============================] - 0s 6ms/step - loss: 2.1387 - acc: 0.2150 - val_loss: 1.8786 - val_acc: 0.2350\n",
            "Epoch 16/20\n",
            "18/18 [==============================] - 0s 6ms/step - loss: 1.9379 - acc: 0.2109 - val_loss: 1.8800 - val_acc: 0.2332\n",
            "Epoch 17/20\n",
            "18/18 [==============================] - 0s 7ms/step - loss: 2.1377 - acc: 0.2092 - val_loss: 1.8703 - val_acc: 0.2345\n",
            "Epoch 18/20\n",
            "18/18 [==============================] - 0s 7ms/step - loss: 1.8872 - acc: 0.2053 - val_loss: 1.8672 - val_acc: 0.2336\n",
            "Epoch 19/20\n",
            "18/18 [==============================] - 0s 6ms/step - loss: 1.8620 - acc: 0.2041 - val_loss: 1.8628 - val_acc: 0.2341\n",
            "Epoch 20/20\n",
            "18/18 [==============================] - 0s 7ms/step - loss: 2.0415 - acc: 0.2167 - val_loss: 1.8521 - val_acc: 0.2345\n"
          ],
          "name": "stdout"
        }
      ]
    },
    {
      "cell_type": "code",
      "metadata": {
        "colab": {
          "base_uri": "https://localhost:8080/"
        },
        "id": "i48MXiGp3so_",
        "outputId": "52acfc71-2aa1-470c-9b80-3da99c5e42de"
      },
      "source": [
        "test_loss_dpt, test_acc_dpt = drop_model.evaluate(testX ,testy ,verbose = 2)"
      ],
      "execution_count": null,
      "outputs": [
        {
          "output_type": "stream",
          "text": [
            "70/70 - 0s - loss: 1.8521 - acc: 0.2345\n"
          ],
          "name": "stdout"
        }
      ]
    },
    {
      "cell_type": "code",
      "metadata": {
        "colab": {
          "base_uri": "https://localhost:8080/"
        },
        "id": "GhFM9wQb1-Yq",
        "outputId": "c82c522b-35d0-454d-c96c-9cc74d220335"
      },
      "source": [
        "l1_history = l1_model.fit(trainX ,trainy , epochs = 20, batch_size = 512, validation_data=(testX, testy))"
      ],
      "execution_count": null,
      "outputs": [
        {
          "output_type": "stream",
          "text": [
            "Epoch 1/20\n",
            "18/18 [==============================] - 1s 24ms/step - loss: 2626.6893 - acc: 0.1899 - val_loss: 765.5562 - val_acc: 0.4587\n",
            "Epoch 2/20\n",
            "18/18 [==============================] - 0s 6ms/step - loss: 638.9018 - acc: 0.4956 - val_loss: 374.0022 - val_acc: 0.5548\n",
            "Epoch 3/20\n",
            "18/18 [==============================] - 0s 6ms/step - loss: 296.0854 - acc: 0.5627 - val_loss: 154.1297 - val_acc: 0.5602\n",
            "Epoch 4/20\n",
            "18/18 [==============================] - 0s 7ms/step - loss: 137.8210 - acc: 0.6175 - val_loss: 125.7854 - val_acc: 0.6509\n",
            "Epoch 5/20\n",
            "18/18 [==============================] - 0s 6ms/step - loss: 109.6054 - acc: 0.6646 - val_loss: 68.9630 - val_acc: 0.7058\n",
            "Epoch 6/20\n",
            "18/18 [==============================] - 0s 6ms/step - loss: 93.5964 - acc: 0.6588 - val_loss: 81.9071 - val_acc: 0.6801\n",
            "Epoch 7/20\n",
            "18/18 [==============================] - 0s 7ms/step - loss: 94.4928 - acc: 0.6656 - val_loss: 146.7140 - val_acc: 0.7017\n",
            "Epoch 8/20\n",
            "18/18 [==============================] - 0s 6ms/step - loss: 91.8160 - acc: 0.6853 - val_loss: 68.6762 - val_acc: 0.6914\n",
            "Epoch 9/20\n",
            "18/18 [==============================] - 0s 7ms/step - loss: 75.2595 - acc: 0.7006 - val_loss: 43.8260 - val_acc: 0.7318\n",
            "Epoch 10/20\n",
            "18/18 [==============================] - 0s 8ms/step - loss: 62.7196 - acc: 0.7088 - val_loss: 91.9727 - val_acc: 0.6527\n",
            "Epoch 11/20\n",
            "18/18 [==============================] - 0s 7ms/step - loss: 66.1041 - acc: 0.7117 - val_loss: 41.2526 - val_acc: 0.7673\n",
            "Epoch 12/20\n",
            "18/18 [==============================] - 0s 6ms/step - loss: 62.6974 - acc: 0.7355 - val_loss: 48.9994 - val_acc: 0.7722\n",
            "Epoch 13/20\n",
            "18/18 [==============================] - 0s 7ms/step - loss: 53.2447 - acc: 0.7498 - val_loss: 78.0827 - val_acc: 0.7350\n",
            "Epoch 14/20\n",
            "18/18 [==============================] - 0s 7ms/step - loss: 57.6107 - acc: 0.7534 - val_loss: 26.9728 - val_acc: 0.7866\n",
            "Epoch 15/20\n",
            "18/18 [==============================] - 0s 7ms/step - loss: 36.5393 - acc: 0.7842 - val_loss: 30.4830 - val_acc: 0.8091\n",
            "Epoch 16/20\n",
            "18/18 [==============================] - 0s 6ms/step - loss: 46.6243 - acc: 0.7915 - val_loss: 111.3441 - val_acc: 0.6900\n",
            "Epoch 17/20\n",
            "18/18 [==============================] - 0s 6ms/step - loss: 55.9984 - acc: 0.7725 - val_loss: 104.7032 - val_acc: 0.7543\n",
            "Epoch 18/20\n",
            "18/18 [==============================] - 0s 6ms/step - loss: 45.3373 - acc: 0.8123 - val_loss: 18.5215 - val_acc: 0.8612\n",
            "Epoch 19/20\n",
            "18/18 [==============================] - 0s 7ms/step - loss: 30.1289 - acc: 0.8286 - val_loss: 25.6471 - val_acc: 0.8405\n",
            "Epoch 20/20\n",
            "18/18 [==============================] - 0s 6ms/step - loss: 42.3638 - acc: 0.8040 - val_loss: 75.4146 - val_acc: 0.6792\n"
          ],
          "name": "stdout"
        }
      ]
    },
    {
      "cell_type": "code",
      "metadata": {
        "colab": {
          "base_uri": "https://localhost:8080/"
        },
        "id": "zshwFs8l2BjU",
        "outputId": "2b85eab5-3377-406e-9a73-5405caf67db8"
      },
      "source": [
        "test_loss_l1, test_acc_l1 = l1_model.evaluate(testX ,testy ,verbose = 2)"
      ],
      "execution_count": null,
      "outputs": [
        {
          "output_type": "stream",
          "text": [
            "70/70 - 0s - loss: 75.4146 - acc: 0.6792\n"
          ],
          "name": "stdout"
        }
      ]
    },
    {
      "cell_type": "code",
      "metadata": {
        "colab": {
          "base_uri": "https://localhost:8080/"
        },
        "id": "ftF77MwM4ddJ",
        "outputId": "8d7904d9-0b57-46a1-f477-05e6f1ded688"
      },
      "source": [
        "l1_history_dpt = l1_model_drop.fit(trainX ,trainy , epochs = 20, batch_size = 512, validation_data=(testX, testy))"
      ],
      "execution_count": null,
      "outputs": [
        {
          "output_type": "stream",
          "text": [
            "Epoch 1/20\n",
            "18/18 [==============================] - 1s 23ms/step - loss: 14557.1634 - acc: 0.1411 - val_loss: 2096.8413 - val_acc: 0.1204\n",
            "Epoch 2/20\n",
            "18/18 [==============================] - 0s 6ms/step - loss: 4855.5917 - acc: 0.1742 - val_loss: 614.4414 - val_acc: 0.1698\n",
            "Epoch 3/20\n",
            "18/18 [==============================] - 0s 6ms/step - loss: 1522.6119 - acc: 0.2445 - val_loss: 238.9061 - val_acc: 0.3513\n",
            "Epoch 4/20\n",
            "18/18 [==============================] - 0s 6ms/step - loss: 468.2791 - acc: 0.2583 - val_loss: 76.7332 - val_acc: 0.2754\n",
            "Epoch 5/20\n",
            "18/18 [==============================] - 0s 6ms/step - loss: 120.9550 - acc: 0.2226 - val_loss: 18.2758 - val_acc: 0.2597\n",
            "Epoch 6/20\n",
            "18/18 [==============================] - 0s 6ms/step - loss: 26.7921 - acc: 0.2199 - val_loss: 5.3217 - val_acc: 0.2457\n",
            "Epoch 7/20\n",
            "18/18 [==============================] - 0s 6ms/step - loss: 8.7341 - acc: 0.2189 - val_loss: 3.0521 - val_acc: 0.2417\n",
            "Epoch 8/20\n",
            "18/18 [==============================] - 0s 6ms/step - loss: 3.6621 - acc: 0.2108 - val_loss: 2.3916 - val_acc: 0.2403\n",
            "Epoch 9/20\n",
            "18/18 [==============================] - 0s 7ms/step - loss: 3.6804 - acc: 0.2097 - val_loss: 2.3023 - val_acc: 0.2372\n",
            "Epoch 10/20\n",
            "18/18 [==============================] - 0s 6ms/step - loss: 3.0288 - acc: 0.2127 - val_loss: 2.2319 - val_acc: 0.2363\n",
            "Epoch 11/20\n",
            "18/18 [==============================] - 0s 7ms/step - loss: 2.7016 - acc: 0.2049 - val_loss: 2.1147 - val_acc: 0.2367\n",
            "Epoch 12/20\n",
            "18/18 [==============================] - 0s 8ms/step - loss: 2.3118 - acc: 0.2158 - val_loss: 2.0878 - val_acc: 0.2376\n",
            "Epoch 13/20\n",
            "18/18 [==============================] - 0s 7ms/step - loss: 2.3662 - acc: 0.2090 - val_loss: 2.0931 - val_acc: 0.2354\n",
            "Epoch 14/20\n",
            "18/18 [==============================] - 0s 7ms/step - loss: 2.2223 - acc: 0.2109 - val_loss: 2.0585 - val_acc: 0.2367\n",
            "Epoch 15/20\n",
            "18/18 [==============================] - 0s 7ms/step - loss: 2.1558 - acc: 0.2087 - val_loss: 2.0420 - val_acc: 0.2367\n",
            "Epoch 16/20\n",
            "18/18 [==============================] - 0s 7ms/step - loss: 2.1385 - acc: 0.2133 - val_loss: 2.0262 - val_acc: 0.2358\n",
            "Epoch 17/20\n",
            "18/18 [==============================] - 0s 8ms/step - loss: 2.2637 - acc: 0.2085 - val_loss: 2.0105 - val_acc: 0.2358\n",
            "Epoch 18/20\n",
            "18/18 [==============================] - 0s 7ms/step - loss: 2.2260 - acc: 0.2090 - val_loss: 2.0033 - val_acc: 0.2363\n",
            "Epoch 19/20\n",
            "18/18 [==============================] - 0s 6ms/step - loss: 1.9966 - acc: 0.2099 - val_loss: 1.9893 - val_acc: 0.2358\n",
            "Epoch 20/20\n",
            "18/18 [==============================] - 0s 7ms/step - loss: 2.1720 - acc: 0.2043 - val_loss: 1.9803 - val_acc: 0.2358\n"
          ],
          "name": "stdout"
        }
      ]
    },
    {
      "cell_type": "code",
      "metadata": {
        "colab": {
          "base_uri": "https://localhost:8080/"
        },
        "id": "atBYfnRB4ddK",
        "outputId": "82146337-5f3f-48cb-f1f5-a9b8ca7953a2"
      },
      "source": [
        "test_loss_l1_dpt, test_acc_l1_dpt = l1_model_drop.evaluate(testX ,testy ,verbose = 2)"
      ],
      "execution_count": null,
      "outputs": [
        {
          "output_type": "stream",
          "text": [
            "70/70 - 0s - loss: 1.9803 - acc: 0.2358\n"
          ],
          "name": "stdout"
        }
      ]
    },
    {
      "cell_type": "code",
      "metadata": {
        "colab": {
          "base_uri": "https://localhost:8080/"
        },
        "id": "HwDfV4031aMa",
        "outputId": "ef259ab8-872d-400f-cfc6-551c560ce514"
      },
      "source": [
        "l2_history = l2_model.fit(trainX ,trainy , epochs = 20, batch_size = 512, validation_data=(testX, testy))"
      ],
      "execution_count": null,
      "outputs": [
        {
          "output_type": "stream",
          "text": [
            "Epoch 1/20\n",
            "18/18 [==============================] - 1s 27ms/step - loss: 2487.0939 - acc: 0.2391 - val_loss: 425.2119 - val_acc: 0.5234\n",
            "Epoch 2/20\n",
            "18/18 [==============================] - 0s 7ms/step - loss: 369.9992 - acc: 0.5105 - val_loss: 214.2250 - val_acc: 0.5283\n",
            "Epoch 3/20\n",
            "18/18 [==============================] - 0s 7ms/step - loss: 208.5033 - acc: 0.5925 - val_loss: 104.1723 - val_acc: 0.6550\n",
            "Epoch 4/20\n",
            "18/18 [==============================] - 0s 7ms/step - loss: 116.4193 - acc: 0.6696 - val_loss: 118.5896 - val_acc: 0.6078\n",
            "Epoch 5/20\n",
            "18/18 [==============================] - 0s 6ms/step - loss: 94.5897 - acc: 0.7012 - val_loss: 69.4269 - val_acc: 0.7251\n",
            "Epoch 6/20\n",
            "18/18 [==============================] - 0s 7ms/step - loss: 74.4936 - acc: 0.7470 - val_loss: 68.0703 - val_acc: 0.7916\n",
            "Epoch 7/20\n",
            "18/18 [==============================] - 0s 7ms/step - loss: 61.7141 - acc: 0.7867 - val_loss: 72.2519 - val_acc: 0.7902\n",
            "Epoch 8/20\n",
            "18/18 [==============================] - 0s 6ms/step - loss: 50.9506 - acc: 0.8067 - val_loss: 37.3681 - val_acc: 0.8320\n",
            "Epoch 9/20\n",
            "18/18 [==============================] - 0s 7ms/step - loss: 55.2489 - acc: 0.7952 - val_loss: 27.3213 - val_acc: 0.8437\n",
            "Epoch 10/20\n",
            "18/18 [==============================] - 0s 6ms/step - loss: 50.6905 - acc: 0.8001 - val_loss: 66.2503 - val_acc: 0.7803\n",
            "Epoch 11/20\n",
            "18/18 [==============================] - 0s 6ms/step - loss: 55.1536 - acc: 0.8031 - val_loss: 35.4678 - val_acc: 0.8086\n",
            "Epoch 12/20\n",
            "18/18 [==============================] - 0s 7ms/step - loss: 38.9651 - acc: 0.8188 - val_loss: 84.6731 - val_acc: 0.6815\n",
            "Epoch 13/20\n",
            "18/18 [==============================] - 0s 6ms/step - loss: 55.2466 - acc: 0.7990 - val_loss: 60.0942 - val_acc: 0.7740\n",
            "Epoch 14/20\n",
            "18/18 [==============================] - 0s 6ms/step - loss: 42.1840 - acc: 0.8278 - val_loss: 37.1709 - val_acc: 0.8324\n",
            "Epoch 15/20\n",
            "18/18 [==============================] - 0s 7ms/step - loss: 26.8396 - acc: 0.8759 - val_loss: 43.9334 - val_acc: 0.7574\n",
            "Epoch 16/20\n",
            "18/18 [==============================] - 0s 6ms/step - loss: 49.1333 - acc: 0.8034 - val_loss: 26.6558 - val_acc: 0.8567\n",
            "Epoch 17/20\n",
            "18/18 [==============================] - 0s 8ms/step - loss: 45.6243 - acc: 0.8275 - val_loss: 37.8064 - val_acc: 0.8410\n",
            "Epoch 18/20\n",
            "18/18 [==============================] - 0s 7ms/step - loss: 32.2000 - acc: 0.8692 - val_loss: 22.8379 - val_acc: 0.8890\n",
            "Epoch 19/20\n",
            "18/18 [==============================] - 0s 7ms/step - loss: 31.9951 - acc: 0.8706 - val_loss: 23.7387 - val_acc: 0.8549\n",
            "Epoch 20/20\n",
            "18/18 [==============================] - 0s 7ms/step - loss: 30.1972 - acc: 0.8519 - val_loss: 56.2807 - val_acc: 0.7453\n"
          ],
          "name": "stdout"
        }
      ]
    },
    {
      "cell_type": "code",
      "metadata": {
        "colab": {
          "base_uri": "https://localhost:8080/"
        },
        "id": "o-AlDULF1g0i",
        "outputId": "ab489e80-eba6-490a-fce4-43e140437da7"
      },
      "source": [
        "test_loss_l2, test_acc_l2 = l2_model.evaluate(testX ,testy ,verbose = 2)"
      ],
      "execution_count": null,
      "outputs": [
        {
          "output_type": "stream",
          "text": [
            "70/70 - 0s - loss: 56.2807 - acc: 0.7453\n"
          ],
          "name": "stdout"
        }
      ]
    },
    {
      "cell_type": "code",
      "metadata": {
        "colab": {
          "base_uri": "https://localhost:8080/"
        },
        "id": "OR6LHblU7wvz",
        "outputId": "32a7c29b-f819-498b-d2ca-299d64e84294"
      },
      "source": [
        "l2_history_dpt = l2_model_drop.fit(trainX ,trainy , epochs = 20, batch_size = 512, validation_data=(testX, testy))"
      ],
      "execution_count": null,
      "outputs": [
        {
          "output_type": "stream",
          "text": [
            "Epoch 1/20\n",
            "18/18 [==============================] - 1s 44ms/step - loss: 19310.2850 - acc: 0.1500 - val_loss: 1968.5273 - val_acc: 0.0692\n",
            "Epoch 2/20\n",
            "18/18 [==============================] - 0s 7ms/step - loss: 8390.8654 - acc: 0.1655 - val_loss: 870.7911 - val_acc: 0.1465\n",
            "Epoch 3/20\n",
            "18/18 [==============================] - 0s 6ms/step - loss: 4265.4650 - acc: 0.1668 - val_loss: 408.9437 - val_acc: 0.2682\n",
            "Epoch 4/20\n",
            "18/18 [==============================] - 0s 7ms/step - loss: 1818.5485 - acc: 0.1818 - val_loss: 196.7449 - val_acc: 0.2570\n",
            "Epoch 5/20\n",
            "18/18 [==============================] - 0s 7ms/step - loss: 538.9719 - acc: 0.1891 - val_loss: 44.3865 - val_acc: 0.2004\n",
            "Epoch 6/20\n",
            "18/18 [==============================] - 0s 6ms/step - loss: 145.3760 - acc: 0.1481 - val_loss: 24.0952 - val_acc: 0.1658\n",
            "Epoch 7/20\n",
            "18/18 [==============================] - 0s 7ms/step - loss: 35.6587 - acc: 0.1445 - val_loss: 7.9726 - val_acc: 0.1523\n",
            "Epoch 8/20\n",
            "18/18 [==============================] - 0s 7ms/step - loss: 12.0760 - acc: 0.1670 - val_loss: 2.6747 - val_acc: 0.1968\n",
            "Epoch 9/20\n",
            "18/18 [==============================] - 0s 7ms/step - loss: 3.5186 - acc: 0.1855 - val_loss: 2.2220 - val_acc: 0.1909\n",
            "Epoch 10/20\n",
            "18/18 [==============================] - 0s 7ms/step - loss: 3.5438 - acc: 0.1885 - val_loss: 2.0439 - val_acc: 0.1891\n",
            "Epoch 11/20\n",
            "18/18 [==============================] - 0s 6ms/step - loss: 2.2839 - acc: 0.1897 - val_loss: 2.0136 - val_acc: 0.1896\n",
            "Epoch 12/20\n",
            "18/18 [==============================] - 0s 7ms/step - loss: 2.5712 - acc: 0.1867 - val_loss: 1.9546 - val_acc: 0.1891\n",
            "Epoch 13/20\n",
            "18/18 [==============================] - 0s 7ms/step - loss: 2.2942 - acc: 0.1856 - val_loss: 1.9409 - val_acc: 0.1914\n",
            "Epoch 14/20\n",
            "18/18 [==============================] - 0s 7ms/step - loss: 2.1980 - acc: 0.1843 - val_loss: 1.9390 - val_acc: 0.1905\n",
            "Epoch 15/20\n",
            "18/18 [==============================] - 0s 7ms/step - loss: 2.1203 - acc: 0.1897 - val_loss: 1.9115 - val_acc: 0.1923\n",
            "Epoch 16/20\n",
            "18/18 [==============================] - 0s 7ms/step - loss: 2.0445 - acc: 0.1889 - val_loss: 1.9106 - val_acc: 0.1909\n",
            "Epoch 17/20\n",
            "18/18 [==============================] - 0s 7ms/step - loss: 2.3045 - acc: 0.1838 - val_loss: 1.9094 - val_acc: 0.1905\n",
            "Epoch 18/20\n",
            "18/18 [==============================] - 0s 6ms/step - loss: 1.9716 - acc: 0.1824 - val_loss: 1.9001 - val_acc: 0.1905\n",
            "Epoch 19/20\n",
            "18/18 [==============================] - 0s 7ms/step - loss: 1.9933 - acc: 0.1908 - val_loss: 1.8970 - val_acc: 0.1900\n",
            "Epoch 20/20\n",
            "18/18 [==============================] - 0s 7ms/step - loss: 2.0051 - acc: 0.1962 - val_loss: 1.8935 - val_acc: 0.2197\n"
          ],
          "name": "stdout"
        }
      ]
    },
    {
      "cell_type": "code",
      "metadata": {
        "colab": {
          "base_uri": "https://localhost:8080/"
        },
        "id": "jLjA9sK_728K",
        "outputId": "31364b61-4e46-4c8e-aca2-5d6189318fdf"
      },
      "source": [
        "test_loss_l2_dpt, test_acc_l2_dpt = l2_model_drop.evaluate(testX ,testy ,verbose = 2)"
      ],
      "execution_count": null,
      "outputs": [
        {
          "output_type": "stream",
          "text": [
            "70/70 - 0s - loss: 1.8935 - acc: 0.2197\n"
          ],
          "name": "stdout"
        }
      ]
    },
    {
      "cell_type": "markdown",
      "metadata": {
        "id": "qzV3bnqSCdyP"
      },
      "source": [
        "Small model"
      ]
    },
    {
      "cell_type": "code",
      "metadata": {
        "colab": {
          "base_uri": "https://localhost:8080/"
        },
        "id": "VeNE8C-rlBIo",
        "outputId": "56a72f3c-bcd9-44c5-f12b-c783bd0fc598"
      },
      "source": [
        "small_history = smaller_model.fit(trainX ,trainy , epochs = 20, batch_size = 512, validation_data=(testX, testy))"
      ],
      "execution_count": null,
      "outputs": [
        {
          "output_type": "stream",
          "text": [
            "Epoch 1/20\n",
            "18/18 [==============================] - 1s 23ms/step - loss: 3435.1835 - acc: 0.1129 - val_loss: 967.8920 - val_acc: 0.1739\n",
            "Epoch 2/20\n",
            "18/18 [==============================] - 0s 6ms/step - loss: 853.3466 - acc: 0.2315 - val_loss: 253.3416 - val_acc: 0.3482\n",
            "Epoch 3/20\n",
            "18/18 [==============================] - 0s 6ms/step - loss: 192.9100 - acc: 0.3246 - val_loss: 34.1255 - val_acc: 0.3252\n",
            "Epoch 4/20\n",
            "18/18 [==============================] - 0s 6ms/step - loss: 32.4613 - acc: 0.2983 - val_loss: 7.4498 - val_acc: 0.2978\n",
            "Epoch 5/20\n",
            "18/18 [==============================] - 0s 7ms/step - loss: 6.7963 - acc: 0.2885 - val_loss: 2.9800 - val_acc: 0.2857\n",
            "Epoch 6/20\n",
            "18/18 [==============================] - 0s 7ms/step - loss: 3.5588 - acc: 0.2800 - val_loss: 2.1784 - val_acc: 0.2668\n",
            "Epoch 7/20\n",
            "18/18 [==============================] - 0s 7ms/step - loss: 2.3285 - acc: 0.2604 - val_loss: 2.0098 - val_acc: 0.2480\n",
            "Epoch 8/20\n",
            "18/18 [==============================] - 0s 6ms/step - loss: 2.3100 - acc: 0.2411 - val_loss: 1.9861 - val_acc: 0.2255\n",
            "Epoch 9/20\n",
            "18/18 [==============================] - 0s 6ms/step - loss: 2.3937 - acc: 0.2229 - val_loss: 1.9712 - val_acc: 0.2174\n",
            "Epoch 10/20\n",
            "18/18 [==============================] - 0s 7ms/step - loss: 2.7471 - acc: 0.2153 - val_loss: 1.9531 - val_acc: 0.2179\n",
            "Epoch 11/20\n",
            "18/18 [==============================] - 0s 7ms/step - loss: 2.3220 - acc: 0.2224 - val_loss: 1.9438 - val_acc: 0.2174\n",
            "Epoch 12/20\n",
            "18/18 [==============================] - 0s 7ms/step - loss: 2.3176 - acc: 0.2197 - val_loss: 1.9330 - val_acc: 0.2174\n",
            "Epoch 13/20\n",
            "18/18 [==============================] - 0s 7ms/step - loss: 1.9776 - acc: 0.2187 - val_loss: 1.9277 - val_acc: 0.2174\n",
            "Epoch 14/20\n",
            "18/18 [==============================] - 0s 7ms/step - loss: 2.2096 - acc: 0.2106 - val_loss: 1.9221 - val_acc: 0.2174\n",
            "Epoch 15/20\n",
            "18/18 [==============================] - 0s 7ms/step - loss: 2.3098 - acc: 0.2155 - val_loss: 1.9170 - val_acc: 0.2174\n",
            "Epoch 16/20\n",
            "18/18 [==============================] - 0s 7ms/step - loss: 1.9782 - acc: 0.2177 - val_loss: 1.9145 - val_acc: 0.2174\n",
            "Epoch 17/20\n",
            "18/18 [==============================] - 0s 7ms/step - loss: 1.9346 - acc: 0.2230 - val_loss: 1.9089 - val_acc: 0.2174\n",
            "Epoch 18/20\n",
            "18/18 [==============================] - 0s 7ms/step - loss: 2.0467 - acc: 0.2149 - val_loss: 1.9054 - val_acc: 0.2170\n",
            "Epoch 19/20\n",
            "18/18 [==============================] - 0s 6ms/step - loss: 1.9525 - acc: 0.2183 - val_loss: 1.9007 - val_acc: 0.2170\n",
            "Epoch 20/20\n",
            "18/18 [==============================] - 0s 6ms/step - loss: 2.0223 - acc: 0.2097 - val_loss: 1.8950 - val_acc: 0.2170\n"
          ],
          "name": "stdout"
        }
      ]
    },
    {
      "cell_type": "code",
      "metadata": {
        "colab": {
          "base_uri": "https://localhost:8080/"
        },
        "id": "FvOfBgBhl7ne",
        "outputId": "d5295b6c-e38d-4123-ddc2-6c0b0a8da67b"
      },
      "source": [
        "test_loss_sm, test_acc_sm = smaller_model.evaluate(testX ,testy ,verbose = 2)"
      ],
      "execution_count": null,
      "outputs": [
        {
          "output_type": "stream",
          "text": [
            "70/70 - 0s - loss: 1.8950 - acc: 0.2170\n"
          ],
          "name": "stdout"
        }
      ]
    },
    {
      "cell_type": "code",
      "metadata": {
        "colab": {
          "base_uri": "https://localhost:8080/"
        },
        "id": "Yatw5j0r5ft1",
        "outputId": "e5e0f7c3-9cf2-45a9-d2d7-2c29d25c6aa9"
      },
      "source": [
        "drop_history_sm = smaller_drop_model.fit(trainX ,trainy , epochs = 20, batch_size = 512, validation_data=(testX, testy))"
      ],
      "execution_count": null,
      "outputs": [
        {
          "output_type": "stream",
          "text": [
            "Epoch 1/20\n",
            "18/18 [==============================] - 1s 24ms/step - loss: 11111.8717 - acc: 0.1433 - val_loss: 5074.1738 - val_acc: 0.2161\n",
            "Epoch 2/20\n",
            "18/18 [==============================] - 0s 7ms/step - loss: 6501.6877 - acc: 0.1693 - val_loss: 2904.0007 - val_acc: 0.2179\n",
            "Epoch 3/20\n",
            "18/18 [==============================] - 0s 7ms/step - loss: 3605.7727 - acc: 0.2122 - val_loss: 1233.5388 - val_acc: 0.4353\n",
            "Epoch 4/20\n",
            "18/18 [==============================] - 0s 7ms/step - loss: 1391.4530 - acc: 0.2198 - val_loss: 271.1489 - val_acc: 0.4102\n",
            "Epoch 5/20\n",
            "18/18 [==============================] - 0s 6ms/step - loss: 342.7185 - acc: 0.2425 - val_loss: 67.7306 - val_acc: 0.3428\n",
            "Epoch 6/20\n",
            "18/18 [==============================] - 0s 7ms/step - loss: 89.6057 - acc: 0.2232 - val_loss: 21.9932 - val_acc: 0.2677\n",
            "Epoch 7/20\n",
            "18/18 [==============================] - 0s 6ms/step - loss: 37.5572 - acc: 0.2147 - val_loss: 11.7089 - val_acc: 0.2385\n",
            "Epoch 8/20\n",
            "18/18 [==============================] - 0s 7ms/step - loss: 9.3902 - acc: 0.2159 - val_loss: 2.0616 - val_acc: 0.2363\n",
            "Epoch 9/20\n",
            "18/18 [==============================] - 0s 6ms/step - loss: 2.1896 - acc: 0.2149 - val_loss: 2.0408 - val_acc: 0.2341\n",
            "Epoch 10/20\n",
            "18/18 [==============================] - 0s 6ms/step - loss: 2.1328 - acc: 0.2069 - val_loss: 2.0327 - val_acc: 0.2336\n",
            "Epoch 11/20\n",
            "18/18 [==============================] - 0s 7ms/step - loss: 2.1821 - acc: 0.2097 - val_loss: 2.0145 - val_acc: 0.2332\n",
            "Epoch 12/20\n",
            "18/18 [==============================] - 0s 7ms/step - loss: 2.0436 - acc: 0.2133 - val_loss: 1.9708 - val_acc: 0.2336\n",
            "Epoch 13/20\n",
            "18/18 [==============================] - 0s 7ms/step - loss: 2.1651 - acc: 0.2092 - val_loss: 1.9464 - val_acc: 0.2336\n",
            "Epoch 14/20\n",
            "18/18 [==============================] - 0s 6ms/step - loss: 1.9510 - acc: 0.2081 - val_loss: 1.9109 - val_acc: 0.2336\n",
            "Epoch 15/20\n",
            "18/18 [==============================] - 0s 6ms/step - loss: 1.9384 - acc: 0.2134 - val_loss: 1.8886 - val_acc: 0.2336\n",
            "Epoch 16/20\n",
            "18/18 [==============================] - 0s 7ms/step - loss: 1.8846 - acc: 0.2068 - val_loss: 1.8791 - val_acc: 0.2336\n",
            "Epoch 17/20\n",
            "18/18 [==============================] - 0s 6ms/step - loss: 1.9015 - acc: 0.2112 - val_loss: 1.8758 - val_acc: 0.2336\n",
            "Epoch 18/20\n",
            "18/18 [==============================] - 0s 7ms/step - loss: 1.9486 - acc: 0.2038 - val_loss: 1.8705 - val_acc: 0.2336\n",
            "Epoch 19/20\n",
            "18/18 [==============================] - 0s 7ms/step - loss: 2.0760 - acc: 0.2071 - val_loss: 1.8683 - val_acc: 0.2332\n",
            "Epoch 20/20\n",
            "18/18 [==============================] - 0s 6ms/step - loss: 1.9688 - acc: 0.2095 - val_loss: 1.8640 - val_acc: 0.2332\n"
          ],
          "name": "stdout"
        }
      ]
    },
    {
      "cell_type": "code",
      "metadata": {
        "colab": {
          "base_uri": "https://localhost:8080/"
        },
        "id": "QBeH7MMu5ft2",
        "outputId": "e05ce5f9-0071-4450-cc99-f9d42939df09"
      },
      "source": [
        "test_loss_dpt_sm, test_acc_dpt_sm = smaller_drop_model.evaluate(testX ,testy ,verbose = 2)"
      ],
      "execution_count": null,
      "outputs": [
        {
          "output_type": "stream",
          "text": [
            "70/70 - 0s - loss: 1.8640 - acc: 0.2332\n"
          ],
          "name": "stdout"
        }
      ]
    },
    {
      "cell_type": "code",
      "metadata": {
        "colab": {
          "base_uri": "https://localhost:8080/"
        },
        "id": "sjeYQbQ55ft2",
        "outputId": "37310f03-b49e-4997-f1de-b4213413bff2"
      },
      "source": [
        "l1_history_sm = smaller_l1_model.fit(trainX ,trainy , epochs = 20, batch_size = 512, validation_data=(testX, testy))"
      ],
      "execution_count": null,
      "outputs": [
        {
          "output_type": "stream",
          "text": [
            "Epoch 1/20\n",
            "18/18 [==============================] - 1s 23ms/step - loss: 7278.8403 - acc: 0.0870 - val_loss: 1160.3688 - val_acc: 0.1105\n",
            "Epoch 2/20\n",
            "18/18 [==============================] - 0s 6ms/step - loss: 782.6441 - acc: 0.1439 - val_loss: 161.7185 - val_acc: 0.1986\n",
            "Epoch 3/20\n",
            "18/18 [==============================] - 0s 8ms/step - loss: 115.3720 - acc: 0.2074 - val_loss: 36.4448 - val_acc: 0.2165\n",
            "Epoch 4/20\n",
            "18/18 [==============================] - 0s 6ms/step - loss: 30.0235 - acc: 0.2149 - val_loss: 9.5062 - val_acc: 0.2147\n",
            "Epoch 5/20\n",
            "18/18 [==============================] - 0s 6ms/step - loss: 6.1558 - acc: 0.2155 - val_loss: 2.2936 - val_acc: 0.2165\n",
            "Epoch 6/20\n",
            "18/18 [==============================] - 0s 7ms/step - loss: 2.2077 - acc: 0.2126 - val_loss: 2.0772 - val_acc: 0.2165\n",
            "Epoch 7/20\n",
            "18/18 [==============================] - 0s 7ms/step - loss: 2.0100 - acc: 0.2150 - val_loss: 2.0194 - val_acc: 0.2165\n",
            "Epoch 8/20\n",
            "18/18 [==============================] - 0s 7ms/step - loss: 1.9948 - acc: 0.2173 - val_loss: 2.0089 - val_acc: 0.2165\n",
            "Epoch 9/20\n",
            "18/18 [==============================] - 0s 6ms/step - loss: 1.9972 - acc: 0.2146 - val_loss: 2.0111 - val_acc: 0.2179\n",
            "Epoch 10/20\n",
            "18/18 [==============================] - 0s 6ms/step - loss: 2.0335 - acc: 0.2329 - val_loss: 2.0069 - val_acc: 0.2376\n",
            "Epoch 11/20\n",
            "18/18 [==============================] - 0s 6ms/step - loss: 2.0191 - acc: 0.2287 - val_loss: 1.9643 - val_acc: 0.2210\n",
            "Epoch 12/20\n",
            "18/18 [==============================] - 0s 7ms/step - loss: 1.9170 - acc: 0.2323 - val_loss: 1.9536 - val_acc: 0.2399\n",
            "Epoch 13/20\n",
            "18/18 [==============================] - 0s 7ms/step - loss: 1.9214 - acc: 0.2411 - val_loss: 1.9290 - val_acc: 0.2300\n",
            "Epoch 14/20\n",
            "18/18 [==============================] - 0s 7ms/step - loss: 1.9370 - acc: 0.2351 - val_loss: 1.9050 - val_acc: 0.2520\n",
            "Epoch 15/20\n",
            "18/18 [==============================] - 0s 7ms/step - loss: 1.8989 - acc: 0.2305 - val_loss: 1.8957 - val_acc: 0.2242\n",
            "Epoch 16/20\n",
            "18/18 [==============================] - 0s 6ms/step - loss: 1.8840 - acc: 0.2347 - val_loss: 2.0401 - val_acc: 0.2772\n",
            "Epoch 17/20\n",
            "18/18 [==============================] - 0s 6ms/step - loss: 2.0840 - acc: 0.2882 - val_loss: 1.8504 - val_acc: 0.2579\n",
            "Epoch 18/20\n",
            "18/18 [==============================] - 0s 7ms/step - loss: 1.8046 - acc: 0.2662 - val_loss: 1.9229 - val_acc: 0.2781\n",
            "Epoch 19/20\n",
            "18/18 [==============================] - 0s 8ms/step - loss: 1.7605 - acc: 0.2938 - val_loss: 1.8634 - val_acc: 0.2772\n",
            "Epoch 20/20\n",
            "18/18 [==============================] - 0s 7ms/step - loss: 1.8136 - acc: 0.2839 - val_loss: 1.8004 - val_acc: 0.2691\n"
          ],
          "name": "stdout"
        }
      ]
    },
    {
      "cell_type": "code",
      "metadata": {
        "colab": {
          "base_uri": "https://localhost:8080/"
        },
        "id": "XkKqF9uu5ft2",
        "outputId": "057eaec4-600a-4fe2-9257-10152de656f4"
      },
      "source": [
        "test_loss_l1_sm, test_acc_l1_sm = smaller_l1_model.evaluate(testX ,testy ,verbose = 2)"
      ],
      "execution_count": null,
      "outputs": [
        {
          "output_type": "stream",
          "text": [
            "70/70 - 0s - loss: 1.8004 - acc: 0.2691\n"
          ],
          "name": "stdout"
        }
      ]
    },
    {
      "cell_type": "code",
      "metadata": {
        "colab": {
          "base_uri": "https://localhost:8080/"
        },
        "id": "Zkeb6xEz5ft2",
        "outputId": "c4a0d76f-a554-4aae-d346-cbda99af11c1"
      },
      "source": [
        "l1_history_dpt_sm = smaller_l1_model_drop.fit(trainX ,trainy , epochs = 20, batch_size = 512, validation_data=(testX, testy))"
      ],
      "execution_count": null,
      "outputs": [
        {
          "output_type": "stream",
          "text": [
            "Epoch 1/20\n",
            "18/18 [==============================] - 1s 23ms/step - loss: 247.1329 - acc: 0.1720 - val_loss: 7.5507 - val_acc: 0.1860\n",
            "Epoch 2/20\n",
            "18/18 [==============================] - 0s 7ms/step - loss: 45.5971 - acc: 0.1899 - val_loss: 2.0232 - val_acc: 0.1860\n",
            "Epoch 3/20\n",
            "18/18 [==============================] - 0s 7ms/step - loss: 12.6697 - acc: 0.1921 - val_loss: 1.9836 - val_acc: 0.1864\n",
            "Epoch 4/20\n",
            "18/18 [==============================] - 0s 7ms/step - loss: 3.0416 - acc: 0.1878 - val_loss: 1.9754 - val_acc: 0.1864\n",
            "Epoch 5/20\n",
            "18/18 [==============================] - 0s 7ms/step - loss: 2.4179 - acc: 0.1898 - val_loss: 1.9666 - val_acc: 0.2336\n",
            "Epoch 6/20\n",
            "18/18 [==============================] - 0s 7ms/step - loss: 2.1225 - acc: 0.1935 - val_loss: 1.9572 - val_acc: 0.2336\n",
            "Epoch 7/20\n",
            "18/18 [==============================] - 0s 7ms/step - loss: 2.1499 - acc: 0.2008 - val_loss: 1.9479 - val_acc: 0.2336\n",
            "Epoch 8/20\n",
            "18/18 [==============================] - 0s 7ms/step - loss: 1.9705 - acc: 0.2072 - val_loss: 1.9384 - val_acc: 0.2336\n",
            "Epoch 9/20\n",
            "18/18 [==============================] - 0s 7ms/step - loss: 1.9511 - acc: 0.2120 - val_loss: 1.9292 - val_acc: 0.2336\n",
            "Epoch 10/20\n",
            "18/18 [==============================] - 0s 8ms/step - loss: 2.1449 - acc: 0.2068 - val_loss: 1.9205 - val_acc: 0.2336\n",
            "Epoch 11/20\n",
            "18/18 [==============================] - 0s 7ms/step - loss: 1.9602 - acc: 0.1999 - val_loss: 1.9122 - val_acc: 0.2336\n",
            "Epoch 12/20\n",
            "18/18 [==============================] - 0s 7ms/step - loss: 1.9795 - acc: 0.2059 - val_loss: 1.9049 - val_acc: 0.2336\n",
            "Epoch 13/20\n",
            "18/18 [==============================] - 0s 7ms/step - loss: 1.9597 - acc: 0.2138 - val_loss: 1.8979 - val_acc: 0.2336\n",
            "Epoch 14/20\n",
            "18/18 [==============================] - 0s 7ms/step - loss: 1.9085 - acc: 0.2088 - val_loss: 1.8913 - val_acc: 0.2336\n",
            "Epoch 15/20\n",
            "18/18 [==============================] - 0s 7ms/step - loss: 1.9005 - acc: 0.2153 - val_loss: 1.8852 - val_acc: 0.2332\n",
            "Epoch 16/20\n",
            "18/18 [==============================] - 0s 7ms/step - loss: 1.9011 - acc: 0.2089 - val_loss: 1.8798 - val_acc: 0.2165\n",
            "Epoch 17/20\n",
            "18/18 [==============================] - 0s 7ms/step - loss: 2.0932 - acc: 0.2126 - val_loss: 1.8754 - val_acc: 0.2336\n",
            "Epoch 18/20\n",
            "18/18 [==============================] - 0s 7ms/step - loss: 1.9428 - acc: 0.2068 - val_loss: 1.8711 - val_acc: 0.2336\n",
            "Epoch 19/20\n",
            "18/18 [==============================] - 0s 7ms/step - loss: 1.9904 - acc: 0.2129 - val_loss: 1.8675 - val_acc: 0.2170\n",
            "Epoch 20/20\n",
            "18/18 [==============================] - 0s 7ms/step - loss: 1.8805 - acc: 0.2100 - val_loss: 1.8637 - val_acc: 0.2165\n"
          ],
          "name": "stdout"
        }
      ]
    },
    {
      "cell_type": "code",
      "metadata": {
        "colab": {
          "base_uri": "https://localhost:8080/"
        },
        "id": "a173p18W5ft3",
        "outputId": "6fba520a-e572-436a-fb06-489124b95cab"
      },
      "source": [
        "test_loss_l1_dpt_sm, test_acc_l1_dpt_sm = smaller_l1_model_drop.evaluate(testX ,testy ,verbose = 2)"
      ],
      "execution_count": null,
      "outputs": [
        {
          "output_type": "stream",
          "text": [
            "70/70 - 0s - loss: 1.8637 - acc: 0.2165\n"
          ],
          "name": "stdout"
        }
      ]
    },
    {
      "cell_type": "code",
      "metadata": {
        "colab": {
          "base_uri": "https://localhost:8080/"
        },
        "id": "LEgG-lCA5ft3",
        "outputId": "d053d49c-0182-47d4-8bf5-859f9e546d9b"
      },
      "source": [
        "l2_history_sm = smaller_l2_model.fit(trainX ,trainy , epochs = 20, batch_size = 512, validation_data=(testX, testy))"
      ],
      "execution_count": null,
      "outputs": [
        {
          "output_type": "stream",
          "text": [
            "Epoch 1/20\n",
            "18/18 [==============================] - 1s 24ms/step - loss: 5395.1441 - acc: 0.1325 - val_loss: 2762.1633 - val_acc: 0.0544\n",
            "Epoch 2/20\n",
            "18/18 [==============================] - 0s 6ms/step - loss: 2128.0055 - acc: 0.0466 - val_loss: 1313.0122 - val_acc: 0.0678\n",
            "Epoch 3/20\n",
            "18/18 [==============================] - 0s 6ms/step - loss: 902.5601 - acc: 0.0902 - val_loss: 287.6350 - val_acc: 0.1536\n",
            "Epoch 4/20\n",
            "18/18 [==============================] - 0s 7ms/step - loss: 159.0164 - acc: 0.1813 - val_loss: 32.4082 - val_acc: 0.2111\n",
            "Epoch 5/20\n",
            "18/18 [==============================] - 0s 6ms/step - loss: 24.3522 - acc: 0.2126 - val_loss: 4.8129 - val_acc: 0.2120\n",
            "Epoch 6/20\n",
            "18/18 [==============================] - 0s 7ms/step - loss: 4.5866 - acc: 0.2132 - val_loss: 2.9453 - val_acc: 0.2161\n",
            "Epoch 7/20\n",
            "18/18 [==============================] - 0s 7ms/step - loss: 3.8154 - acc: 0.2231 - val_loss: 2.6801 - val_acc: 0.2165\n",
            "Epoch 8/20\n",
            "18/18 [==============================] - 0s 7ms/step - loss: 2.4388 - acc: 0.2178 - val_loss: 2.5944 - val_acc: 0.2170\n",
            "Epoch 9/20\n",
            "18/18 [==============================] - 0s 7ms/step - loss: 2.0919 - acc: 0.2118 - val_loss: 2.2996 - val_acc: 0.2165\n",
            "Epoch 10/20\n",
            "18/18 [==============================] - 0s 6ms/step - loss: 2.0428 - acc: 0.2143 - val_loss: 2.0231 - val_acc: 0.2170\n",
            "Epoch 11/20\n",
            "18/18 [==============================] - 0s 7ms/step - loss: 1.9942 - acc: 0.2199 - val_loss: 1.9216 - val_acc: 0.2170\n",
            "Epoch 12/20\n",
            "18/18 [==============================] - 0s 8ms/step - loss: 1.9429 - acc: 0.2167 - val_loss: 1.9134 - val_acc: 0.2174\n",
            "Epoch 13/20\n",
            "18/18 [==============================] - 0s 6ms/step - loss: 1.8988 - acc: 0.2189 - val_loss: 1.9079 - val_acc: 0.2174\n",
            "Epoch 14/20\n",
            "18/18 [==============================] - 0s 7ms/step - loss: 1.8941 - acc: 0.2196 - val_loss: 1.9029 - val_acc: 0.2174\n",
            "Epoch 15/20\n",
            "18/18 [==============================] - 0s 6ms/step - loss: 1.8883 - acc: 0.2219 - val_loss: 1.8982 - val_acc: 0.2174\n",
            "Epoch 16/20\n",
            "18/18 [==============================] - 0s 7ms/step - loss: 1.8843 - acc: 0.2163 - val_loss: 1.8939 - val_acc: 0.2174\n",
            "Epoch 17/20\n",
            "18/18 [==============================] - 0s 7ms/step - loss: 1.8809 - acc: 0.2210 - val_loss: 1.8895 - val_acc: 0.2174\n",
            "Epoch 18/20\n",
            "18/18 [==============================] - 0s 7ms/step - loss: 1.8775 - acc: 0.2140 - val_loss: 1.8855 - val_acc: 0.2174\n",
            "Epoch 19/20\n",
            "18/18 [==============================] - 0s 7ms/step - loss: 1.8737 - acc: 0.2149 - val_loss: 1.8821 - val_acc: 0.2174\n",
            "Epoch 20/20\n",
            "18/18 [==============================] - 0s 6ms/step - loss: 1.8682 - acc: 0.2175 - val_loss: 1.8795 - val_acc: 0.2174\n"
          ],
          "name": "stdout"
        }
      ]
    },
    {
      "cell_type": "code",
      "metadata": {
        "colab": {
          "base_uri": "https://localhost:8080/"
        },
        "id": "uSnVGjm-5ft3",
        "outputId": "ab9e07a8-9229-42e4-952b-875d01cc4671"
      },
      "source": [
        "test_loss_l2_sm, test_acc_l2_sm = smaller_l2_model.evaluate(testX ,testy ,verbose = 2)"
      ],
      "execution_count": null,
      "outputs": [
        {
          "output_type": "stream",
          "text": [
            "70/70 - 0s - loss: 1.8795 - acc: 0.2174\n"
          ],
          "name": "stdout"
        }
      ]
    },
    {
      "cell_type": "code",
      "metadata": {
        "colab": {
          "base_uri": "https://localhost:8080/"
        },
        "id": "aZyDj26S5ft3",
        "outputId": "a23e6fdb-c5d4-413e-80b4-ec530de38a75"
      },
      "source": [
        "l2_history_dpt_sm = smaller_l2_model_drop.fit(trainX ,trainy , epochs = 20, batch_size = 512, validation_data=(testX, testy))"
      ],
      "execution_count": null,
      "outputs": [
        {
          "output_type": "stream",
          "text": [
            "Epoch 1/20\n",
            "18/18 [==============================] - 1s 25ms/step - loss: 5302.8059 - acc: 0.1487 - val_loss: 1268.9565 - val_acc: 0.1384\n",
            "Epoch 2/20\n",
            "18/18 [==============================] - 0s 6ms/step - loss: 1713.4049 - acc: 0.1979 - val_loss: 50.0674 - val_acc: 0.1271\n",
            "Epoch 3/20\n",
            "18/18 [==============================] - 0s 6ms/step - loss: 493.7057 - acc: 0.1927 - val_loss: 2.0400 - val_acc: 0.2336\n",
            "Epoch 4/20\n",
            "18/18 [==============================] - 0s 6ms/step - loss: 102.0464 - acc: 0.2036 - val_loss: 1.9755 - val_acc: 0.2165\n",
            "Epoch 5/20\n",
            "18/18 [==============================] - 0s 7ms/step - loss: 10.1381 - acc: 0.2049 - val_loss: 1.9606 - val_acc: 0.2165\n",
            "Epoch 6/20\n",
            "18/18 [==============================] - 0s 7ms/step - loss: 3.5710 - acc: 0.2189 - val_loss: 1.9519 - val_acc: 0.2165\n",
            "Epoch 7/20\n",
            "18/18 [==============================] - 0s 7ms/step - loss: 2.6438 - acc: 0.2149 - val_loss: 1.9430 - val_acc: 0.2165\n",
            "Epoch 8/20\n",
            "18/18 [==============================] - 0s 7ms/step - loss: 2.2095 - acc: 0.2234 - val_loss: 1.9332 - val_acc: 0.2165\n",
            "Epoch 9/20\n",
            "18/18 [==============================] - 0s 7ms/step - loss: 2.3862 - acc: 0.2191 - val_loss: 1.9235 - val_acc: 0.2165\n",
            "Epoch 10/20\n",
            "18/18 [==============================] - 0s 7ms/step - loss: 2.1454 - acc: 0.2090 - val_loss: 1.9128 - val_acc: 0.2170\n",
            "Epoch 11/20\n",
            "18/18 [==============================] - 0s 7ms/step - loss: 2.0272 - acc: 0.2156 - val_loss: 1.9022 - val_acc: 0.2170\n",
            "Epoch 12/20\n",
            "18/18 [==============================] - 0s 7ms/step - loss: 1.9921 - acc: 0.2095 - val_loss: 1.8930 - val_acc: 0.2170\n",
            "Epoch 13/20\n",
            "18/18 [==============================] - 0s 7ms/step - loss: 1.9936 - acc: 0.2136 - val_loss: 1.8872 - val_acc: 0.2170\n",
            "Epoch 14/20\n",
            "18/18 [==============================] - 0s 7ms/step - loss: 1.9694 - acc: 0.2183 - val_loss: 1.8812 - val_acc: 0.2170\n",
            "Epoch 15/20\n",
            "18/18 [==============================] - 0s 7ms/step - loss: 1.9384 - acc: 0.2197 - val_loss: 1.8773 - val_acc: 0.2170\n",
            "Epoch 16/20\n",
            "18/18 [==============================] - 0s 6ms/step - loss: 1.9152 - acc: 0.2138 - val_loss: 1.8733 - val_acc: 0.2170\n",
            "Epoch 17/20\n",
            "18/18 [==============================] - 0s 6ms/step - loss: 1.9046 - acc: 0.2193 - val_loss: 1.8703 - val_acc: 0.2170\n",
            "Epoch 18/20\n",
            "18/18 [==============================] - 0s 6ms/step - loss: 1.9004 - acc: 0.2215 - val_loss: 1.8681 - val_acc: 0.2170\n",
            "Epoch 19/20\n",
            "18/18 [==============================] - 0s 6ms/step - loss: 1.9210 - acc: 0.2159 - val_loss: 1.8643 - val_acc: 0.2170\n",
            "Epoch 20/20\n",
            "18/18 [==============================] - 0s 7ms/step - loss: 1.8763 - acc: 0.2192 - val_loss: 1.8606 - val_acc: 0.2174\n"
          ],
          "name": "stdout"
        }
      ]
    },
    {
      "cell_type": "code",
      "metadata": {
        "colab": {
          "base_uri": "https://localhost:8080/"
        },
        "id": "AXJq92xZ5ft3",
        "outputId": "aa7c5c70-f391-430e-da44-91e0715586fe"
      },
      "source": [
        "test_loss_l2_dpt_sm, test_acc_l2_dpt_sm = smaller_l2_model_drop.evaluate(testX ,testy ,verbose = 2)"
      ],
      "execution_count": null,
      "outputs": [
        {
          "output_type": "stream",
          "text": [
            "70/70 - 0s - loss: 1.8606 - acc: 0.2174\n"
          ],
          "name": "stdout"
        }
      ]
    },
    {
      "cell_type": "markdown",
      "metadata": {
        "id": "e_-bUIqsCn44"
      },
      "source": [
        "Big model"
      ]
    },
    {
      "cell_type": "code",
      "metadata": {
        "colab": {
          "base_uri": "https://localhost:8080/"
        },
        "id": "6bZw986xwpkB",
        "outputId": "d5fc2230-3749-4b9d-9022-433133354d72"
      },
      "source": [
        "big_history = bigger_model.fit(trainX ,trainy , epochs = 20, batch_size = 512, validation_data=(testX, testy))"
      ],
      "execution_count": null,
      "outputs": [
        {
          "output_type": "stream",
          "text": [
            "Epoch 1/20\n",
            "18/18 [==============================] - 1s 24ms/step - loss: 11691.0959 - acc: 0.3804 - val_loss: 1667.5040 - val_acc: 0.6595\n",
            "Epoch 2/20\n",
            "18/18 [==============================] - 0s 8ms/step - loss: 1299.2802 - acc: 0.6682 - val_loss: 1110.1819 - val_acc: 0.6541\n",
            "Epoch 3/20\n",
            "18/18 [==============================] - 0s 7ms/step - loss: 736.6789 - acc: 0.6959 - val_loss: 110.4540 - val_acc: 0.8850\n",
            "Epoch 4/20\n",
            "18/18 [==============================] - 0s 7ms/step - loss: 719.4599 - acc: 0.7469 - val_loss: 212.5025 - val_acc: 0.8050\n",
            "Epoch 5/20\n",
            "18/18 [==============================] - 0s 7ms/step - loss: 674.7724 - acc: 0.7273 - val_loss: 215.2964 - val_acc: 0.8050\n",
            "Epoch 6/20\n",
            "18/18 [==============================] - 0s 8ms/step - loss: 250.8567 - acc: 0.8252 - val_loss: 268.6950 - val_acc: 0.8549\n",
            "Epoch 7/20\n",
            "18/18 [==============================] - 0s 8ms/step - loss: 150.4453 - acc: 0.8805 - val_loss: 180.4602 - val_acc: 0.8293\n",
            "Epoch 8/20\n",
            "18/18 [==============================] - 0s 8ms/step - loss: 110.2693 - acc: 0.8707 - val_loss: 46.7003 - val_acc: 0.9429\n",
            "Epoch 9/20\n",
            "18/18 [==============================] - 0s 7ms/step - loss: 354.8144 - acc: 0.8199 - val_loss: 32.7447 - val_acc: 0.9420\n",
            "Epoch 10/20\n",
            "18/18 [==============================] - 0s 7ms/step - loss: 67.9980 - acc: 0.9160 - val_loss: 38.6331 - val_acc: 0.9501\n",
            "Epoch 11/20\n",
            "18/18 [==============================] - 0s 7ms/step - loss: 55.3429 - acc: 0.9302 - val_loss: 16.9775 - val_acc: 0.9313\n",
            "Epoch 12/20\n",
            "18/18 [==============================] - 0s 8ms/step - loss: 56.3301 - acc: 0.9106 - val_loss: 34.0938 - val_acc: 0.9416\n",
            "Epoch 13/20\n",
            "18/18 [==============================] - 0s 8ms/step - loss: 43.9140 - acc: 0.9275 - val_loss: 16.3315 - val_acc: 0.9317\n",
            "Epoch 14/20\n",
            "18/18 [==============================] - 0s 7ms/step - loss: 88.0260 - acc: 0.8981 - val_loss: 8.1291 - val_acc: 0.9771\n",
            "Epoch 15/20\n",
            "18/18 [==============================] - 0s 8ms/step - loss: 26.1344 - acc: 0.9485 - val_loss: 8.8293 - val_acc: 0.9771\n",
            "Epoch 16/20\n",
            "18/18 [==============================] - 0s 8ms/step - loss: 13.4987 - acc: 0.9616 - val_loss: 10.1644 - val_acc: 0.9757\n",
            "Epoch 17/20\n",
            "18/18 [==============================] - 0s 8ms/step - loss: 27.0404 - acc: 0.9425 - val_loss: 8.3704 - val_acc: 0.9730\n",
            "Epoch 18/20\n",
            "18/18 [==============================] - 0s 7ms/step - loss: 12.9127 - acc: 0.9710 - val_loss: 94.6415 - val_acc: 0.8176\n",
            "Epoch 19/20\n",
            "18/18 [==============================] - 0s 7ms/step - loss: 41.8393 - acc: 0.9072 - val_loss: 18.3232 - val_acc: 0.9569\n",
            "Epoch 20/20\n",
            "18/18 [==============================] - 0s 8ms/step - loss: 9.9427 - acc: 0.9641 - val_loss: 64.7786 - val_acc: 0.8217\n"
          ],
          "name": "stdout"
        }
      ]
    },
    {
      "cell_type": "code",
      "metadata": {
        "colab": {
          "base_uri": "https://localhost:8080/"
        },
        "id": "fpYJ5A9sw3bX",
        "outputId": "1d446fa9-7e5c-40be-be9c-afc620db54ba"
      },
      "source": [
        "test_loss_bg, test_acc_bg = bigger_model.evaluate(testX ,testy ,verbose = 2)"
      ],
      "execution_count": null,
      "outputs": [
        {
          "output_type": "stream",
          "text": [
            "70/70 - 0s - loss: 64.7786 - acc: 0.8217\n"
          ],
          "name": "stdout"
        }
      ]
    },
    {
      "cell_type": "code",
      "metadata": {
        "colab": {
          "base_uri": "https://localhost:8080/"
        },
        "id": "HVPrxLKp6D_O",
        "outputId": "aaf78cc8-d806-4157-cc37-1bc1f212e2a5"
      },
      "source": [
        "drop_history_bg = bigger_drop_model.fit(trainX ,trainy , epochs = 20, batch_size = 512, validation_data=(testX, testy))"
      ],
      "execution_count": null,
      "outputs": [
        {
          "output_type": "stream",
          "text": [
            "Epoch 1/20\n",
            "18/18 [==============================] - 1s 25ms/step - loss: 10534.2076 - acc: 0.3662 - val_loss: 707.4529 - val_acc: 0.7592\n",
            "Epoch 2/20\n",
            "18/18 [==============================] - 0s 8ms/step - loss: 1647.3990 - acc: 0.6117 - val_loss: 339.7234 - val_acc: 0.7358\n",
            "Epoch 3/20\n",
            "18/18 [==============================] - 0s 8ms/step - loss: 653.6978 - acc: 0.6944 - val_loss: 91.8106 - val_acc: 0.7673\n",
            "Epoch 4/20\n",
            "18/18 [==============================] - 0s 8ms/step - loss: 402.3193 - acc: 0.7230 - val_loss: 39.1141 - val_acc: 0.8845\n",
            "Epoch 5/20\n",
            "18/18 [==============================] - 0s 8ms/step - loss: 154.7383 - acc: 0.7750 - val_loss: 23.6105 - val_acc: 0.8845\n",
            "Epoch 6/20\n",
            "18/18 [==============================] - 0s 8ms/step - loss: 126.9825 - acc: 0.7810 - val_loss: 14.0961 - val_acc: 0.8962\n",
            "Epoch 7/20\n",
            "18/18 [==============================] - 0s 8ms/step - loss: 75.7594 - acc: 0.8048 - val_loss: 13.0749 - val_acc: 0.9057\n",
            "Epoch 8/20\n",
            "18/18 [==============================] - 0s 8ms/step - loss: 48.2397 - acc: 0.8242 - val_loss: 6.1004 - val_acc: 0.9236\n",
            "Epoch 9/20\n",
            "18/18 [==============================] - 0s 8ms/step - loss: 36.5090 - acc: 0.8245 - val_loss: 5.4489 - val_acc: 0.9052\n",
            "Epoch 10/20\n",
            "18/18 [==============================] - 0s 8ms/step - loss: 31.7429 - acc: 0.8250 - val_loss: 5.8232 - val_acc: 0.8904\n",
            "Epoch 11/20\n",
            "18/18 [==============================] - 0s 8ms/step - loss: 24.5908 - acc: 0.8306 - val_loss: 3.1849 - val_acc: 0.8787\n",
            "Epoch 12/20\n",
            "18/18 [==============================] - 0s 8ms/step - loss: 16.9504 - acc: 0.8328 - val_loss: 2.7239 - val_acc: 0.9048\n",
            "Epoch 13/20\n",
            "18/18 [==============================] - 0s 8ms/step - loss: 14.3382 - acc: 0.8327 - val_loss: 1.5532 - val_acc: 0.9030\n",
            "Epoch 14/20\n",
            "18/18 [==============================] - 0s 9ms/step - loss: 11.1205 - acc: 0.8336 - val_loss: 2.3255 - val_acc: 0.8468\n",
            "Epoch 15/20\n",
            "18/18 [==============================] - 0s 8ms/step - loss: 10.4386 - acc: 0.8324 - val_loss: 1.5298 - val_acc: 0.8854\n",
            "Epoch 16/20\n",
            "18/18 [==============================] - 0s 8ms/step - loss: 7.4574 - acc: 0.8265 - val_loss: 1.0908 - val_acc: 0.8805\n",
            "Epoch 17/20\n",
            "18/18 [==============================] - 0s 8ms/step - loss: 5.9597 - acc: 0.8233 - val_loss: 1.3639 - val_acc: 0.8028\n",
            "Epoch 18/20\n",
            "18/18 [==============================] - 0s 8ms/step - loss: 4.7652 - acc: 0.8103 - val_loss: 0.8702 - val_acc: 0.8288\n",
            "Epoch 19/20\n",
            "18/18 [==============================] - 0s 8ms/step - loss: 3.6080 - acc: 0.7749 - val_loss: 0.7583 - val_acc: 0.7785\n",
            "Epoch 20/20\n",
            "18/18 [==============================] - 0s 8ms/step - loss: 2.4759 - acc: 0.7307 - val_loss: 0.9647 - val_acc: 0.6959\n"
          ],
          "name": "stdout"
        }
      ]
    },
    {
      "cell_type": "code",
      "metadata": {
        "colab": {
          "base_uri": "https://localhost:8080/"
        },
        "id": "rpxO5ybW6D_O",
        "outputId": "4d7dccd9-48f6-423e-a99d-54b2decadaea"
      },
      "source": [
        "test_loss_dpt_bg, test_acc_dpt_bg = bigger_drop_model.evaluate(testX ,testy ,verbose = 2)"
      ],
      "execution_count": null,
      "outputs": [
        {
          "output_type": "stream",
          "text": [
            "70/70 - 0s - loss: 0.9647 - acc: 0.6959\n"
          ],
          "name": "stdout"
        }
      ]
    },
    {
      "cell_type": "code",
      "metadata": {
        "colab": {
          "base_uri": "https://localhost:8080/"
        },
        "id": "NiflZXJs6D_P",
        "outputId": "d95966f1-cfe4-4d1d-808a-4acf7cdb177d"
      },
      "source": [
        "l1_history_bg = bigger_l1_model.fit(trainX ,trainy , epochs = 20, batch_size = 512, validation_data=(testX, testy))"
      ],
      "execution_count": null,
      "outputs": [
        {
          "output_type": "stream",
          "text": [
            "Epoch 1/20\n",
            "18/18 [==============================] - 1s 25ms/step - loss: 10067.7778 - acc: 0.3203 - val_loss: 1039.7717 - val_acc: 0.6370\n",
            "Epoch 2/20\n",
            "18/18 [==============================] - 0s 8ms/step - loss: 2044.2071 - acc: 0.5825 - val_loss: 2082.8762 - val_acc: 0.7111\n",
            "Epoch 3/20\n",
            "18/18 [==============================] - 0s 8ms/step - loss: 1504.3020 - acc: 0.6813 - val_loss: 1807.9714 - val_acc: 0.7116\n",
            "Epoch 4/20\n",
            "18/18 [==============================] - 0s 8ms/step - loss: 878.5830 - acc: 0.7313 - val_loss: 221.6871 - val_acc: 0.8131\n",
            "Epoch 5/20\n",
            "18/18 [==============================] - 0s 7ms/step - loss: 420.1317 - acc: 0.8036 - val_loss: 1070.9318 - val_acc: 0.7942\n",
            "Epoch 6/20\n",
            "18/18 [==============================] - 0s 8ms/step - loss: 669.6017 - acc: 0.7770 - val_loss: 722.9741 - val_acc: 0.7934\n",
            "Epoch 7/20\n",
            "18/18 [==============================] - 0s 8ms/step - loss: 300.9735 - acc: 0.8345 - val_loss: 363.2900 - val_acc: 0.8720\n",
            "Epoch 8/20\n",
            "18/18 [==============================] - 0s 8ms/step - loss: 223.7996 - acc: 0.8732 - val_loss: 142.0257 - val_acc: 0.8589\n",
            "Epoch 9/20\n",
            "18/18 [==============================] - 0s 8ms/step - loss: 79.8684 - acc: 0.9104 - val_loss: 81.9596 - val_acc: 0.9443\n",
            "Epoch 10/20\n",
            "18/18 [==============================] - 0s 8ms/step - loss: 133.6787 - acc: 0.8749 - val_loss: 153.5006 - val_acc: 0.8652\n",
            "Epoch 11/20\n",
            "18/18 [==============================] - 0s 8ms/step - loss: 104.7052 - acc: 0.8989 - val_loss: 31.6048 - val_acc: 0.9429\n",
            "Epoch 12/20\n",
            "18/18 [==============================] - 0s 8ms/step - loss: 87.0198 - acc: 0.8982 - val_loss: 27.2035 - val_acc: 0.9695\n",
            "Epoch 13/20\n",
            "18/18 [==============================] - 0s 8ms/step - loss: 48.4911 - acc: 0.9123 - val_loss: 355.2123 - val_acc: 0.7287\n",
            "Epoch 14/20\n",
            "18/18 [==============================] - 0s 8ms/step - loss: 102.5742 - acc: 0.9060 - val_loss: 25.3987 - val_acc: 0.9308\n",
            "Epoch 15/20\n",
            "18/18 [==============================] - 0s 8ms/step - loss: 52.1086 - acc: 0.9273 - val_loss: 13.4811 - val_acc: 0.9668\n",
            "Epoch 16/20\n",
            "18/18 [==============================] - 0s 8ms/step - loss: 33.4949 - acc: 0.9417 - val_loss: 39.4457 - val_acc: 0.9447\n",
            "Epoch 17/20\n",
            "18/18 [==============================] - 0s 8ms/step - loss: 24.8180 - acc: 0.9555 - val_loss: 18.9213 - val_acc: 0.9560\n",
            "Epoch 18/20\n",
            "18/18 [==============================] - 0s 8ms/step - loss: 21.6269 - acc: 0.9511 - val_loss: 60.5346 - val_acc: 0.8724\n",
            "Epoch 19/20\n",
            "18/18 [==============================] - 0s 8ms/step - loss: 25.9407 - acc: 0.9473 - val_loss: 20.0074 - val_acc: 0.9510\n",
            "Epoch 20/20\n",
            "18/18 [==============================] - 0s 8ms/step - loss: 31.9632 - acc: 0.9339 - val_loss: 84.4900 - val_acc: 0.8702\n"
          ],
          "name": "stdout"
        }
      ]
    },
    {
      "cell_type": "code",
      "metadata": {
        "colab": {
          "base_uri": "https://localhost:8080/"
        },
        "id": "KJmwZNZd6D_P",
        "outputId": "b2115d4d-0707-40da-d79e-1de1a7dcd3d4"
      },
      "source": [
        "test_loss_l1_bg, test_acc_l1_bg = bigger_l1_model.evaluate(testX ,testy ,verbose = 2)"
      ],
      "execution_count": null,
      "outputs": [
        {
          "output_type": "stream",
          "text": [
            "70/70 - 0s - loss: 84.4900 - acc: 0.8702\n"
          ],
          "name": "stdout"
        }
      ]
    },
    {
      "cell_type": "code",
      "metadata": {
        "colab": {
          "base_uri": "https://localhost:8080/"
        },
        "id": "BDZhFSOQ6D_P",
        "outputId": "412bbb36-b055-43a5-c129-395d577562ea"
      },
      "source": [
        "l1_history_dpt_bg = bigger_l1_model_drop.fit(trainX ,trainy , epochs = 20, batch_size = 512, validation_data=(testX, testy))"
      ],
      "execution_count": null,
      "outputs": [
        {
          "output_type": "stream",
          "text": [
            "Epoch 1/20\n",
            "18/18 [==============================] - 1s 27ms/step - loss: 8473.7109 - acc: 0.3728 - val_loss: 347.9440 - val_acc: 0.7547\n",
            "Epoch 2/20\n",
            "18/18 [==============================] - 0s 8ms/step - loss: 1121.4260 - acc: 0.6322 - val_loss: 135.6142 - val_acc: 0.8140\n",
            "Epoch 3/20\n",
            "18/18 [==============================] - 0s 8ms/step - loss: 512.0096 - acc: 0.7032 - val_loss: 45.0567 - val_acc: 0.8738\n",
            "Epoch 4/20\n",
            "18/18 [==============================] - 0s 8ms/step - loss: 287.4878 - acc: 0.7195 - val_loss: 32.3245 - val_acc: 0.8567\n",
            "Epoch 5/20\n",
            "18/18 [==============================] - 0s 8ms/step - loss: 169.5635 - acc: 0.7548 - val_loss: 28.8418 - val_acc: 0.8527\n",
            "Epoch 6/20\n",
            "18/18 [==============================] - 0s 8ms/step - loss: 111.0663 - acc: 0.7685 - val_loss: 27.4834 - val_acc: 0.7934\n",
            "Epoch 7/20\n",
            "18/18 [==============================] - 0s 9ms/step - loss: 77.9033 - acc: 0.7787 - val_loss: 17.5184 - val_acc: 0.8908\n",
            "Epoch 8/20\n",
            "18/18 [==============================] - 0s 8ms/step - loss: 55.2961 - acc: 0.7824 - val_loss: 13.2411 - val_acc: 0.8095\n",
            "Epoch 9/20\n",
            "18/18 [==============================] - 0s 8ms/step - loss: 47.7970 - acc: 0.7672 - val_loss: 12.9743 - val_acc: 0.8279\n",
            "Epoch 10/20\n",
            "18/18 [==============================] - 0s 9ms/step - loss: 32.2939 - acc: 0.7800 - val_loss: 10.4988 - val_acc: 0.8387\n",
            "Epoch 11/20\n",
            "18/18 [==============================] - 0s 9ms/step - loss: 25.2545 - acc: 0.7503 - val_loss: 9.9796 - val_acc: 0.7718\n",
            "Epoch 12/20\n",
            "18/18 [==============================] - 0s 8ms/step - loss: 16.1685 - acc: 0.7495 - val_loss: 9.7846 - val_acc: 0.5256\n",
            "Epoch 13/20\n",
            "18/18 [==============================] - 0s 9ms/step - loss: 12.9694 - acc: 0.6458 - val_loss: 9.4510 - val_acc: 0.4362\n",
            "Epoch 14/20\n",
            "18/18 [==============================] - 0s 8ms/step - loss: 11.3978 - acc: 0.5992 - val_loss: 8.4909 - val_acc: 0.5108\n",
            "Epoch 15/20\n",
            "18/18 [==============================] - 0s 8ms/step - loss: 9.9537 - acc: 0.5488 - val_loss: 7.9190 - val_acc: 0.4236\n",
            "Epoch 16/20\n",
            "18/18 [==============================] - 0s 8ms/step - loss: 9.5618 - acc: 0.4988 - val_loss: 7.0399 - val_acc: 0.4596\n",
            "Epoch 17/20\n",
            "18/18 [==============================] - 0s 9ms/step - loss: 8.5055 - acc: 0.4943 - val_loss: 6.3972 - val_acc: 0.3935\n",
            "Epoch 18/20\n",
            "18/18 [==============================] - 0s 8ms/step - loss: 8.1372 - acc: 0.4897 - val_loss: 5.4710 - val_acc: 0.5382\n",
            "Epoch 19/20\n",
            "18/18 [==============================] - 0s 8ms/step - loss: 8.0348 - acc: 0.4871 - val_loss: 5.0965 - val_acc: 0.4735\n",
            "Epoch 20/20\n",
            "18/18 [==============================] - 0s 8ms/step - loss: 6.5308 - acc: 0.4688 - val_loss: 4.7820 - val_acc: 0.3935\n"
          ],
          "name": "stdout"
        }
      ]
    },
    {
      "cell_type": "code",
      "metadata": {
        "colab": {
          "base_uri": "https://localhost:8080/"
        },
        "id": "iF3g36N96D_P",
        "outputId": "fb5e0c68-7524-491e-9bf9-dc0ec141c667"
      },
      "source": [
        "test_loss_l1_dpt_bg, test_acc_l1_dpt_bg = bigger_l1_model_drop.evaluate(testX ,testy ,verbose = 2)"
      ],
      "execution_count": null,
      "outputs": [
        {
          "output_type": "stream",
          "text": [
            "70/70 - 0s - loss: 4.7820 - acc: 0.3935\n"
          ],
          "name": "stdout"
        }
      ]
    },
    {
      "cell_type": "code",
      "metadata": {
        "colab": {
          "base_uri": "https://localhost:8080/"
        },
        "id": "-RDZBL5a6D_P",
        "outputId": "8ef0f11e-e131-4ff1-97fa-0c9aeb023245"
      },
      "source": [
        "l2_history_bg = bigger_l2_model.fit(trainX ,trainy , epochs = 20, batch_size = 512, validation_data=(testX, testy))"
      ],
      "execution_count": null,
      "outputs": [
        {
          "output_type": "stream",
          "text": [
            "Epoch 1/20\n",
            "18/18 [==============================] - 1s 25ms/step - loss: 10093.1863 - acc: 0.3951 - val_loss: 2703.1123 - val_acc: 0.6078\n",
            "Epoch 2/20\n",
            "18/18 [==============================] - 0s 8ms/step - loss: 2055.2796 - acc: 0.6096 - val_loss: 863.7115 - val_acc: 0.7278\n",
            "Epoch 3/20\n",
            "18/18 [==============================] - 0s 8ms/step - loss: 672.3156 - acc: 0.7294 - val_loss: 299.2331 - val_acc: 0.8347\n",
            "Epoch 4/20\n",
            "18/18 [==============================] - 0s 8ms/step - loss: 574.1100 - acc: 0.7638 - val_loss: 282.2039 - val_acc: 0.8055\n",
            "Epoch 5/20\n",
            "18/18 [==============================] - 0s 8ms/step - loss: 419.1540 - acc: 0.7824 - val_loss: 1520.7357 - val_acc: 0.5526\n",
            "Epoch 6/20\n",
            "18/18 [==============================] - 0s 8ms/step - loss: 507.0559 - acc: 0.7592 - val_loss: 135.2590 - val_acc: 0.8329\n",
            "Epoch 7/20\n",
            "18/18 [==============================] - 0s 8ms/step - loss: 133.8405 - acc: 0.8827 - val_loss: 344.3489 - val_acc: 0.8091\n",
            "Epoch 8/20\n",
            "18/18 [==============================] - 0s 8ms/step - loss: 170.8292 - acc: 0.8454 - val_loss: 288.3218 - val_acc: 0.8055\n",
            "Epoch 9/20\n",
            "18/18 [==============================] - 0s 8ms/step - loss: 201.9225 - acc: 0.8649 - val_loss: 87.6073 - val_acc: 0.8985\n",
            "Epoch 10/20\n",
            "18/18 [==============================] - 0s 7ms/step - loss: 89.3609 - acc: 0.9084 - val_loss: 46.7105 - val_acc: 0.9146\n",
            "Epoch 11/20\n",
            "18/18 [==============================] - 0s 8ms/step - loss: 45.5523 - acc: 0.9230 - val_loss: 202.6113 - val_acc: 0.8360\n",
            "Epoch 12/20\n",
            "18/18 [==============================] - 0s 8ms/step - loss: 154.2589 - acc: 0.8652 - val_loss: 88.7233 - val_acc: 0.8819\n",
            "Epoch 13/20\n",
            "18/18 [==============================] - 0s 8ms/step - loss: 61.6143 - acc: 0.9151 - val_loss: 22.4562 - val_acc: 0.9447\n",
            "Epoch 14/20\n",
            "18/18 [==============================] - 0s 8ms/step - loss: 27.9156 - acc: 0.9418 - val_loss: 19.1248 - val_acc: 0.9506\n",
            "Epoch 15/20\n",
            "18/18 [==============================] - 0s 8ms/step - loss: 76.3322 - acc: 0.9002 - val_loss: 77.8849 - val_acc: 0.9093\n",
            "Epoch 16/20\n",
            "18/18 [==============================] - 0s 8ms/step - loss: 34.6303 - acc: 0.9403 - val_loss: 65.8348 - val_acc: 0.9066\n",
            "Epoch 17/20\n",
            "18/18 [==============================] - 0s 8ms/step - loss: 38.1160 - acc: 0.9358 - val_loss: 29.6295 - val_acc: 0.9506\n",
            "Epoch 18/20\n",
            "18/18 [==============================] - 0s 9ms/step - loss: 39.0662 - acc: 0.9143 - val_loss: 4.5164 - val_acc: 0.9704\n",
            "Epoch 19/20\n",
            "18/18 [==============================] - 0s 8ms/step - loss: 10.7667 - acc: 0.9633 - val_loss: 15.0132 - val_acc: 0.9434\n",
            "Epoch 20/20\n",
            "18/18 [==============================] - 0s 7ms/step - loss: 22.3437 - acc: 0.9416 - val_loss: 17.2385 - val_acc: 0.9605\n"
          ],
          "name": "stdout"
        }
      ]
    },
    {
      "cell_type": "code",
      "metadata": {
        "colab": {
          "base_uri": "https://localhost:8080/"
        },
        "id": "rBRiYz1C6D_Q",
        "outputId": "2c1f4c8e-9430-48db-dcfa-6a0352331d33"
      },
      "source": [
        "test_loss_l2_bg, test_acc_l2_bg = bigger_l2_model.evaluate(testX ,testy ,verbose = 2)"
      ],
      "execution_count": null,
      "outputs": [
        {
          "output_type": "stream",
          "text": [
            "70/70 - 0s - loss: 17.2385 - acc: 0.9605\n"
          ],
          "name": "stdout"
        }
      ]
    },
    {
      "cell_type": "code",
      "metadata": {
        "colab": {
          "base_uri": "https://localhost:8080/"
        },
        "id": "QPv27sst6D_Q",
        "outputId": "9c321f4c-b7ad-4d7e-ec80-6ff74e8fd48c"
      },
      "source": [
        "l2_history_dpt_bg = bigger_l2_model_drop.fit(trainX ,trainy , epochs = 20, batch_size = 512, validation_data=(testX, testy))"
      ],
      "execution_count": null,
      "outputs": [
        {
          "output_type": "stream",
          "text": [
            "Epoch 1/20\n",
            "18/18 [==============================] - 1s 25ms/step - loss: 8565.4513 - acc: 0.3706 - val_loss: 390.1783 - val_acc: 0.7219\n",
            "Epoch 2/20\n",
            "18/18 [==============================] - 0s 8ms/step - loss: 1434.6556 - acc: 0.6191 - val_loss: 137.7637 - val_acc: 0.8657\n",
            "Epoch 3/20\n",
            "18/18 [==============================] - 0s 8ms/step - loss: 541.5832 - acc: 0.7109 - val_loss: 67.3228 - val_acc: 0.8230\n",
            "Epoch 4/20\n",
            "18/18 [==============================] - 0s 8ms/step - loss: 297.3347 - acc: 0.7335 - val_loss: 47.5728 - val_acc: 0.8477\n",
            "Epoch 5/20\n",
            "18/18 [==============================] - 0s 8ms/step - loss: 155.1409 - acc: 0.7717 - val_loss: 13.3066 - val_acc: 0.8778\n",
            "Epoch 6/20\n",
            "18/18 [==============================] - 0s 8ms/step - loss: 102.4880 - acc: 0.7837 - val_loss: 10.3219 - val_acc: 0.8715\n",
            "Epoch 7/20\n",
            "18/18 [==============================] - 0s 8ms/step - loss: 59.4931 - acc: 0.7917 - val_loss: 6.2686 - val_acc: 0.8913\n",
            "Epoch 8/20\n",
            "18/18 [==============================] - 0s 8ms/step - loss: 44.9216 - acc: 0.8098 - val_loss: 4.7411 - val_acc: 0.9097\n",
            "Epoch 9/20\n",
            "18/18 [==============================] - 0s 8ms/step - loss: 31.2623 - acc: 0.7964 - val_loss: 3.6442 - val_acc: 0.8657\n",
            "Epoch 10/20\n",
            "18/18 [==============================] - 0s 8ms/step - loss: 27.5311 - acc: 0.7975 - val_loss: 4.2312 - val_acc: 0.8104\n",
            "Epoch 11/20\n",
            "18/18 [==============================] - 0s 8ms/step - loss: 19.3123 - acc: 0.7922 - val_loss: 2.3208 - val_acc: 0.8221\n",
            "Epoch 12/20\n",
            "18/18 [==============================] - 0s 8ms/step - loss: 13.6595 - acc: 0.7805 - val_loss: 1.5996 - val_acc: 0.7960\n",
            "Epoch 13/20\n",
            "18/18 [==============================] - 0s 8ms/step - loss: 7.8530 - acc: 0.7555 - val_loss: 1.7054 - val_acc: 0.6563\n",
            "Epoch 14/20\n",
            "18/18 [==============================] - 0s 9ms/step - loss: 5.9379 - acc: 0.7238 - val_loss: 1.6276 - val_acc: 0.6402\n",
            "Epoch 15/20\n",
            "18/18 [==============================] - 0s 9ms/step - loss: 4.5482 - acc: 0.6460 - val_loss: 1.8240 - val_acc: 0.4735\n",
            "Epoch 16/20\n",
            "18/18 [==============================] - 0s 8ms/step - loss: 3.2876 - acc: 0.5871 - val_loss: 1.8219 - val_acc: 0.4910\n",
            "Epoch 17/20\n",
            "18/18 [==============================] - 0s 8ms/step - loss: 3.1686 - acc: 0.5641 - val_loss: 1.8074 - val_acc: 0.4420\n",
            "Epoch 18/20\n",
            "18/18 [==============================] - 0s 9ms/step - loss: 2.5699 - acc: 0.5495 - val_loss: 1.7378 - val_acc: 0.4654\n",
            "Epoch 19/20\n",
            "18/18 [==============================] - 0s 9ms/step - loss: 3.0068 - acc: 0.5277 - val_loss: 1.6912 - val_acc: 0.4506\n",
            "Epoch 20/20\n",
            "18/18 [==============================] - 0s 8ms/step - loss: 3.0408 - acc: 0.5090 - val_loss: 1.6954 - val_acc: 0.4326\n"
          ],
          "name": "stdout"
        }
      ]
    },
    {
      "cell_type": "code",
      "metadata": {
        "colab": {
          "base_uri": "https://localhost:8080/"
        },
        "id": "4K-6X6cx6D_Q",
        "outputId": "ab399314-60bc-49ca-d910-5e5b690e29f0"
      },
      "source": [
        "test_loss_l2_dpt_bg, test_acc_l2_dpt_bg = bigger_l2_model_drop.evaluate(testX ,testy ,verbose = 2)"
      ],
      "execution_count": null,
      "outputs": [
        {
          "output_type": "stream",
          "text": [
            "70/70 - 0s - loss: 1.6954 - acc: 0.4326\n"
          ],
          "name": "stdout"
        }
      ]
    },
    {
      "cell_type": "markdown",
      "metadata": {
        "id": "5GBJgkudCp7Z"
      },
      "source": [
        "## Nous dressons plusieurs graphiques pour déterminer quel modèle nous souhaitons sélectionner"
      ]
    },
    {
      "cell_type": "markdown",
      "metadata": {
        "id": "pLAxxZqlCypY"
      },
      "source": [
        "Comparaison original/small/big"
      ]
    },
    {
      "cell_type": "code",
      "metadata": {
        "colab": {
          "base_uri": "https://localhost:8080/",
          "height": 295
        },
        "id": "z1yEPFO2qecA",
        "outputId": "ad2b9e08-75be-41a9-8c8d-ed2d01c85663"
      },
      "source": [
        "original_val_loss = original_history.history['val_loss']\n",
        "small_val_loss = small_history.history['val_loss']\n",
        "big_val_loss = big_history.history['val_loss']\n",
        "plt.figure()\n",
        "plt.plot(range(20), original_val_loss, color = 'blue')\n",
        "plt.plot(range(20), small_val_loss, color = 'red')\n",
        "plt.plot(range(20), big_val_loss, 'green')\n",
        "plt.xlabel(\"epochs\")\n",
        "plt.ylabel(\"loss\")\n",
        "plt.title(\"Comparaison loss des modèles : original (B), small (R), big(G)\")\n",
        "plt.show()"
      ],
      "execution_count": null,
      "outputs": [
        {
          "output_type": "display_data",
          "data": {
            "image/png": "[encoded data removed]",
            "text/plain": [
              "<Figure size 432x288 with 1 Axes>"
            ]
          },
          "metadata": {
            "tags": [],
            "needs_background": "light"
          }
        }
      ]
    },
    {
      "cell_type": "code",
      "metadata": {
        "colab": {
          "base_uri": "https://localhost:8080/",
          "height": 295
        },
        "id": "3X_SjB4T1AWg",
        "outputId": "882b60d2-fdb1-4cc6-9c15-e8a6be7e847a"
      },
      "source": [
        "original_val_acc = original_history.history['val_acc']\n",
        "small_val_acc = small_history.history['val_acc']\n",
        "big_val_acc = big_history.history['val_acc']\n",
        "\n",
        "plt.figure()\n",
        "plt.plot(range(20), original_val_acc, color = 'blue')\n",
        "plt.plot(range(20), small_val_acc, color = 'red')\n",
        "plt.plot(range(20), big_val_acc, 'green')\n",
        "plt.xlabel(\"epochs\")\n",
        "plt.ylabel(\"accuracy\")\n",
        "plt.title(\"Comparaison accuracy des modèles : original (B), small (R), big(G)\")\n",
        "plt.show()"
      ],
      "execution_count": null,
      "outputs": [
        {
          "output_type": "display_data",
          "data": {
            "image/png": "[encoded data removed]",
            "text/plain": [
              "<Figure size 432x288 with 1 Axes>"
            ]
          },
          "metadata": {
            "tags": [],
            "needs_background": "light"
          }
        }
      ]
    },
    {
      "cell_type": "markdown",
      "metadata": {
        "id": "91wDvzKVC31o"
      },
      "source": [
        "Comparaison entre toutes les variantes du modèle original"
      ]
    },
    {
      "cell_type": "code",
      "metadata": {
        "colab": {
          "base_uri": "https://localhost:8080/",
          "height": 295
        },
        "id": "lF46Q9Dd1nJC",
        "outputId": "423f8c67-4a98-4582-c039-5a566ee868f2"
      },
      "source": [
        "original_val_loss = original_history.history['val_loss']\n",
        "drop_val_loss = drop_history.history['val_loss']\n",
        "l1_val_loss = l1_history.history['val_loss']\n",
        "l1_val_dpt_loss = l1_history_dpt.history['val_loss']\n",
        "l2_val_loss = l2_history.history['val_loss']\n",
        "l2_val_dpt_loss = l2_history_dpt.history['val_loss']\n",
        "\n",
        "plt.figure()\n",
        "plt.plot(range(20), original_val_loss, color = 'blue')\n",
        "plt.plot(range(20), drop_val_loss, color = 'red')\n",
        "plt.plot(range(20), l1_val_loss, 'green')\n",
        "plt.plot(range(20), l1_val_dpt_loss, color = 'black')\n",
        "plt.plot(range(20), l2_val_loss, color = 'purple')\n",
        "plt.plot(range(20), l2_val_dpt_loss, 'yellow')\n",
        "\n",
        "plt.xlabel(\"epochs\")\n",
        "plt.ylabel(\"loss\")\n",
        "plt.title(\"Comparaison loss original : original (B), drop (R), l1 (G), l1_drop (Black), l2 (P), l2_drop (Y)\")\n",
        "plt.show()"
      ],
      "execution_count": null,
      "outputs": [
        {
          "output_type": "display_data",
          "data": {
            "image/png": "[encoded data removed]",
            "text/plain": [
              "<Figure size 432x288 with 1 Axes>"
            ]
          },
          "metadata": {
            "tags": [],
            "needs_background": "light"
          }
        }
      ]
    },
    {
      "cell_type": "code",
      "metadata": {
        "colab": {
          "base_uri": "https://localhost:8080/",
          "height": 295
        },
        "id": "Xgce2wI91MjG",
        "outputId": "a0c0388e-688b-40e5-a99b-c588b7e6b6f5"
      },
      "source": [
        "original_val_acc = original_history.history['val_acc']\n",
        "drop_val_acc = drop_history.history['val_acc']\n",
        "l1_val_acc = l1_history.history['val_acc']\n",
        "l1_val_dpt_acc = l1_history_dpt.history['val_acc']\n",
        "l2_val_acc = l2_history.history['val_acc']\n",
        "l2_val_dpt_acc = l2_history_dpt.history['val_acc']\n",
        "\n",
        "plt.figure()\n",
        "plt.plot(range(20), original_val_acc, color = 'blue')\n",
        "plt.plot(range(20), drop_val_acc, color = 'red')\n",
        "plt.plot(range(20), l1_val_acc, 'green')\n",
        "plt.plot(range(20), l1_val_dpt_acc, color = 'black')\n",
        "plt.plot(range(20), l2_val_acc, color = 'purple')\n",
        "plt.plot(range(20), l2_val_dpt_acc, 'yellow')\n",
        "\n",
        "plt.xlabel(\"epochs\")\n",
        "plt.ylabel(\"accuracy\")\n",
        "plt.title(\"Comparaison accuracy original : original (B), drop (R), l1 (G), l1_drop (Black), l2 (P), l2_drop (Y)\")\n",
        "plt.show()"
      ],
      "execution_count": null,
      "outputs": [
        {
          "output_type": "display_data",
          "data": {
            "image/png": "[encoded data removed]",
            "text/plain": [
              "<Figure size 432x288 with 1 Axes>"
            ]
          },
          "metadata": {
            "tags": [],
            "needs_background": "light"
          }
        }
      ]
    },
    {
      "cell_type": "markdown",
      "metadata": {
        "id": "GmDEU0AFC-Zg"
      },
      "source": [
        "Comparaison entre toutes les variantes du modèle small"
      ]
    },
    {
      "cell_type": "code",
      "metadata": {
        "colab": {
          "base_uri": "https://localhost:8080/",
          "height": 295
        },
        "id": "J3o1t7BR9-6V",
        "outputId": "5f90f18f-754e-4b83-c5d9-08936f907271"
      },
      "source": [
        "small_val_loss = small_history.history['val_loss']\n",
        "drop_val_sm_loss = drop_history_sm.history['val_loss']\n",
        "l1_val_sm_loss = l1_history_sm.history['val_loss']\n",
        "l1_val_dpt_sm_loss = l1_history_dpt_sm.history['val_loss']\n",
        "l2_val_sm_loss = l2_history_sm.history['val_loss']\n",
        "l2_val_dpt_sm_loss = l2_history_dpt_sm.history['val_loss']\n",
        "\n",
        "plt.figure()\n",
        "plt.plot(range(20), small_val_loss, color = 'blue')\n",
        "plt.plot(range(20), drop_val_sm_loss, color = 'red')\n",
        "plt.plot(range(20), l1_val_sm_loss, 'green')\n",
        "plt.plot(range(20), l1_val_dpt_sm_loss, color = 'black')\n",
        "plt.plot(range(20), l2_val_sm_loss, color = 'purple')\n",
        "plt.plot(range(20), l2_val_dpt_sm_loss, 'yellow')\n",
        "\n",
        "plt.xlabel(\"epochs\")\n",
        "plt.ylabel(\"loss\")\n",
        "plt.title(\"Comparaison loss small : small (B), drop (R), l1 (G), l1_drop (Black), l2 (P), l2_drop (Y)\")\n",
        "plt.show()"
      ],
      "execution_count": null,
      "outputs": [
        {
          "output_type": "display_data",
          "data": {
            "image/png": "[encoded data removed]",
            "text/plain": [
              "<Figure size 432x288 with 1 Axes>"
            ]
          },
          "metadata": {
            "tags": [],
            "needs_background": "light"
          }
        }
      ]
    },
    {
      "cell_type": "code",
      "metadata": {
        "colab": {
          "base_uri": "https://localhost:8080/",
          "height": 295
        },
        "id": "B6MGBntE9-6W",
        "outputId": "e844ca8d-99f8-4072-c4a8-6ed1179191b1"
      },
      "source": [
        "small_val_acc = small_history.history['val_acc']\n",
        "drop_val_sm_acc = drop_history_sm.history['val_acc']\n",
        "l1_val_sm_acc = l1_history_sm.history['val_acc']\n",
        "l1_val_dpt_sm_acc = l1_history_dpt_sm.history['val_acc']\n",
        "l2_val_sm_acc = l2_history_sm.history['val_acc']\n",
        "l2_val_dpt_sm_acc = l2_history_dpt_sm.history['val_acc']\n",
        "\n",
        "plt.figure()\n",
        "plt.plot(range(20), small_val_acc, color = 'blue')\n",
        "plt.plot(range(20), drop_val_sm_acc, color = 'red')\n",
        "plt.plot(range(20), l1_val_sm_acc, 'green')\n",
        "plt.plot(range(20), l1_val_dpt_sm_acc, color = 'black')\n",
        "plt.plot(range(20), l2_val_sm_acc, color = 'purple')\n",
        "plt.plot(range(20), l2_val_dpt_sm_acc, 'yellow')\n",
        "\n",
        "plt.xlabel(\"epochs\")\n",
        "plt.ylabel(\"accuracy\")\n",
        "plt.title(\"Comparaison accuracy small : small (B), drop (R), l1 (G), l1_drop (Black), l2 (P), l2_drop (Y)\")\n",
        "plt.show()"
      ],
      "execution_count": null,
      "outputs": [
        {
          "output_type": "display_data",
          "data": {
            "image/png": "[encoded data removed]",
            "text/plain": [
              "<Figure size 432x288 with 1 Axes>"
            ]
          },
          "metadata": {
            "tags": [],
            "needs_background": "light"
          }
        }
      ]
    },
    {
      "cell_type": "markdown",
      "metadata": {
        "id": "2aEb9PHlDAPg"
      },
      "source": [
        "Comparaison entre toutes les variantes du modèle big"
      ]
    },
    {
      "cell_type": "code",
      "metadata": {
        "colab": {
          "base_uri": "https://localhost:8080/",
          "height": 295
        },
        "id": "3xeGSFFK_Gdj",
        "outputId": "5d30e7bb-70c7-4614-91fa-fbbc992b7cae"
      },
      "source": [
        "big_val_loss = big_history.history['val_loss']\n",
        "drop_val_bg_loss = drop_history_bg.history['val_loss']\n",
        "l1_val_bg_loss = l1_history_bg.history['val_loss']\n",
        "l1_val_dpt_bg_loss = l1_history_dpt_bg.history['val_loss']\n",
        "l2_val_bg_loss = l2_history_bg.history['val_loss']\n",
        "l2_val_dpt_bg_loss = l2_history_dpt_bg.history['val_loss']\n",
        "\n",
        "plt.figure()\n",
        "plt.plot(range(20), big_val_loss, color = 'blue')\n",
        "plt.plot(range(20), drop_val_bg_loss, color = 'red')\n",
        "plt.plot(range(20), l1_val_bg_loss, 'green')\n",
        "plt.plot(range(20), l1_val_dpt_bg_loss, color = 'black')\n",
        "plt.plot(range(20), l2_val_bg_loss, color = 'purple')\n",
        "plt.plot(range(20), l2_val_dpt_bg_loss, 'yellow')\n",
        "\n",
        "plt.xlabel(\"epochs\")\n",
        "plt.ylabel(\"loss\")\n",
        "plt.title(\"Comparaison loss big : big (B), drop (R), l1 (G), l1_drop (Black), l2 (P), l2_drop (Y)\")\n",
        "plt.show()"
      ],
      "execution_count": null,
      "outputs": [
        {
          "output_type": "display_data",
          "data": {
            "image/png": "[encoded data removed]",
            "text/plain": [
              "<Figure size 432x288 with 1 Axes>"
            ]
          },
          "metadata": {
            "tags": [],
            "needs_background": "light"
          }
        }
      ]
    },
    {
      "cell_type": "code",
      "metadata": {
        "colab": {
          "base_uri": "https://localhost:8080/",
          "height": 295
        },
        "id": "QMKE47ix_Gdj",
        "outputId": "d2a0f441-9b71-4657-93d5-ed1ee669bef4"
      },
      "source": [
        "big_val_acc = big_history.history['val_acc']\n",
        "drop_val_bg_acc = drop_history_bg.history['val_acc']\n",
        "l1_val_bg_acc = l1_history_bg.history['val_acc']\n",
        "l1_val_dpt_bg_acc = l1_history_dpt_bg.history['val_acc']\n",
        "l2_val_bg_acc = l2_history_bg.history['val_acc']\n",
        "l2_val_dpt_bg_acc = l2_history_dpt_bg.history['val_acc']\n",
        "\n",
        "plt.figure()\n",
        "plt.plot(range(20), big_val_acc, color = 'blue')\n",
        "plt.plot(range(20), drop_val_bg_acc, color = 'red')\n",
        "plt.plot(range(20), l1_val_bg_acc, 'green')\n",
        "plt.plot(range(20), l1_val_dpt_bg_acc, color = 'black')\n",
        "plt.plot(range(20), l2_val_bg_acc, color = 'purple')\n",
        "plt.plot(range(20), l2_val_dpt_bg_acc, 'yellow')\n",
        "\n",
        "plt.xlabel(\"epochs\")\n",
        "plt.ylabel(\"accuracy\")\n",
        "plt.title(\"Comparaison accuracy big : big (B), drop (R), l1 (G), l1_drop (Black), l2 (P), l2_drop (Y)\")\n",
        "plt.show()"
      ],
      "execution_count": null,
      "outputs": [
        {
          "output_type": "display_data",
          "data": {
            "image/png": "[encoded data removed]",
            "text/plain": [
              "<Figure size 432x288 with 1 Axes>"
            ]
          },
          "metadata": {
            "tags": [],
            "needs_background": "light"
          }
        }
      ]
    },
    {
      "cell_type": "markdown",
      "metadata": {
        "id": "jh3gfeRQOfsx"
      },
      "source": [
        "## Le modèle le plus performant est donc le modèle Big L2 (environ 0.95 d'accuracy et une loss faible)"
      ]
    },
    {
      "cell_type": "markdown",
      "metadata": {
        "id": "QynOJxEABFmL"
      },
      "source": [
        "# Nous choissisons donc le modèle Big L2 comme modèle de réfèrence pour ajuster les hyperparamètres"
      ]
    },
    {
      "cell_type": "markdown",
      "metadata": {
        "id": "uPyozDoADO7A"
      },
      "source": [
        "## Learning rate"
      ]
    },
    {
      "cell_type": "code",
      "metadata": {
        "id": "u5dF5uwzBW6B"
      },
      "source": [
        "def fit_model(trainX, trainy, testX, testy, lrate):\n",
        "  model = keras.Sequential([    \n",
        "                           keras.layers.Dense(512, activation='relu', input_dim=128, kernel_regularizer= keras.regularizers.l2(0.001)),\n",
        "                           keras.layers.Dense(512, activation='relu',  input_dim=128, kernel_regularizer= keras.regularizers.l2(0.001)),\n",
        "                           keras.layers.Dense(7, activation='sigmoid')\n",
        "                           ])\n",
        "  # compile model\n",
        "  model.compile(loss = 'categorical_crossentropy', optimizer = keras.optimizers.SGD(learning_rate = lrate ), metrics =['accuracy'])\n",
        "  history = model.fit( trainX , trainy ,validation_data = (testX ,testy), epochs = 20 , verbose =0)\n",
        "  plt.plot(history.history['accuracy'], label ='train', color = 'r')\n",
        "  plt.plot(history.history['val_accuracy'], label ='test', color = 'b')\n",
        "  plt.title('lrate ='+ str (lrate), pad = -50)"
      ],
      "execution_count": null,
      "outputs": []
    },
    {
      "cell_type": "code",
      "metadata": {
        "colab": {
          "base_uri": "https://localhost:8080/",
          "height": 745
        },
        "id": "tf_9eZweDWln",
        "outputId": "d86e391d-0c62-46ee-eece-0f396037beb5"
      },
      "source": [
        "learning_rates = [1, 0.1, 0.01, 0.001, 0.0001, 0.00001, 0.000001, 0.0000001]\n",
        "for i in range (len(learning_rates)):\n",
        "  # determine the plot number\n",
        "  plot_no = 420 + (i + 1)\n",
        "  plt.subplot(plot_no)\n",
        "  # fit model and plot learning curves for a learning rate\n",
        "  fit_model(trainX ,trainy ,testX ,testy ,learning_rates[i])\n",
        "  # show learning curves\n",
        "  plt.show()"
      ],
      "execution_count": null,
      "outputs": [
        {
          "output_type": "display_data",
          "data": {
            "image/png": "[encoded data removed]",
            "text/plain": [
              "<Figure size 432x288 with 1 Axes>"
            ]
          },
          "metadata": {
            "tags": [],
            "needs_background": "light"
          }
        },
        {
          "output_type": "display_data",
          "data": {
            "image/png": "[encoded data removed]",
            "text/plain": [
              "<Figure size 432x288 with 1 Axes>"
            ]
          },
          "metadata": {
            "tags": [],
            "needs_background": "light"
          }
        },
        {
          "output_type": "display_data",
          "data": {
            "image/png": "[encoded data removed]",
            "text/plain": [
              "<Figure size 432x288 with 1 Axes>"
            ]
          },
          "metadata": {
            "tags": [],
            "needs_background": "light"
          }
        },
        {
          "output_type": "display_data",
          "data": {
            "image/png": "[encoded data removed]",
            "text/plain": [
              "<Figure size 432x288 with 1 Axes>"
            ]
          },
          "metadata": {
            "tags": [],
            "needs_background": "light"
          }
        },
        {
          "output_type": "display_data",
          "data": {
            "image/png": "[encoded data removed]",
            "text/plain": [
              "<Figure size 432x288 with 1 Axes>"
            ]
          },
          "metadata": {
            "tags": [],
            "needs_background": "light"
          }
        },
        {
          "output_type": "display_data",
          "data": {
            "image/png": "[encoded data removed]",
            "text/plain": [
              "<Figure size 432x288 with 1 Axes>"
            ]
          },
          "metadata": {
            "tags": [],
            "needs_background": "light"
          }
        },
        {
          "output_type": "display_data",
          "data": {
            "image/png": "[encoded data removed]",
            "text/plain": [
              "<Figure size 432x288 with 1 Axes>"
            ]
          },
          "metadata": {
            "tags": [],
            "needs_background": "light"
          }
        },
        {
          "output_type": "display_data",
          "data": {
            "image/png": "[encoded data removed]",
            "text/plain": [
              "<Figure size 432x288 with 1 Axes>"
            ]
          },
          "metadata": {
            "tags": [],
            "needs_background": "light"
          }
        }
      ]
    },
    {
      "cell_type": "markdown",
      "metadata": {
        "id": "Z8O_mtdXNuTM"
      },
      "source": [
        "Le learning rate fixé à 1*E-5 est clairement le plus efficace (environ 0.9 d'accuracy)"
      ]
    },
    {
      "cell_type": "markdown",
      "metadata": {
        "id": "-kQtqhrDG312"
      },
      "source": [
        "# Momentum"
      ]
    },
    {
      "cell_type": "code",
      "metadata": {
        "id": "3lMMIIB-56ld"
      },
      "source": [
        "def fit_model(trainX, trainy, testX, testy, momentum):\n",
        "  # define model\n",
        "  model = keras.Sequential([    \n",
        "                           keras.layers.Dense(512, activation='relu', input_dim=128, kernel_regularizer= keras.regularizers.l2(0.001)),\n",
        "                           keras.layers.Dense(512, activation='relu',  input_dim=128, kernel_regularizer= keras.regularizers.l2(0.001)),\n",
        "                           keras.layers.Dense(7, activation='sigmoid')\n",
        "                           ])\n",
        "  # compile model\n",
        "  model.compile(loss='categorical_crossentropy', optimizer= keras.optimizers.SGD(learning_rate= 0.00001, momentum= momentum), metrics=['accuracy'])\n",
        "  # fit model\n",
        "  history = model.fit(trainX, trainy, validation_data=(testX, testy), epochs=20, verbose=0)\n",
        "  # plot learning curves\n",
        "  plt.plot(history.history['accuracy'], label='train')\n",
        "  plt.plot(history.history['val_accuracy'], label='test')\n",
        "  plt.title('momentum='+str(momentum), pad=-80)"
      ],
      "execution_count": null,
      "outputs": []
    },
    {
      "cell_type": "code",
      "metadata": {
        "colab": {
          "base_uri": "https://localhost:8080/",
          "height": 381
        },
        "id": "ezbM_ZUD58mM",
        "outputId": "5a2d46d9-0016-441f-de88-1dfee8e848a5"
      },
      "source": [
        "momentums = [0.0, 0.5, 0.9, 0.99]\n",
        "for i in range (len(momentums)):\n",
        "  # determine the plot number\n",
        "  plot_no = 420 + (i + 1)\n",
        "  plt.subplot(plot_no)\n",
        "  # fit model and plot learning curves for a learning rate\n",
        "  fit_model(trainX ,trainy ,testX ,testy ,momentums[i])\n",
        "  # show learning curves\n",
        "  plt.show()"
      ],
      "execution_count": null,
      "outputs": [
        {
          "output_type": "display_data",
          "data": {
            "image/png": "[encoded data removed]",
            "text/plain": [
              "<Figure size 432x288 with 1 Axes>"
            ]
          },
          "metadata": {
            "tags": [],
            "needs_background": "light"
          }
        },
        {
          "output_type": "display_data",
          "data": {
            "image/png": "[encoded data removed]",
            "text/plain": [
              "<Figure size 432x288 with 1 Axes>"
            ]
          },
          "metadata": {
            "tags": [],
            "needs_background": "light"
          }
        },
        {
          "output_type": "display_data",
          "data": {
            "image/png": "[encoded data removed]",
            "text/plain": [
              "<Figure size 432x288 with 1 Axes>"
            ]
          },
          "metadata": {
            "tags": [],
            "needs_background": "light"
          }
        },
        {
          "output_type": "display_data",
          "data": {
            "image/png": "[encoded data removed]",
            "text/plain": [
              "<Figure size 432x288 with 1 Axes>"
            ]
          },
          "metadata": {
            "tags": [],
            "needs_background": "light"
          }
        }
      ]
    },
    {
      "cell_type": "markdown",
      "metadata": {
        "id": "2d-j0khFN7lr"
      },
      "source": [
        "Le momentum fixé à 0 est clairement le plus efficace (environ 0.9 d'accuracy)"
      ]
    },
    {
      "cell_type": "markdown",
      "metadata": {
        "id": "WVgLZdTUG-wB"
      },
      "source": [
        "# Decay"
      ]
    },
    {
      "cell_type": "code",
      "metadata": {
        "id": "PNc7-nvF67hc"
      },
      "source": [
        "def decay_lrate(initial_lrate, decay, iteration):\n",
        "  return initial_lrate*(1.0/(1.0 + decay *iteration))"
      ],
      "execution_count": null,
      "outputs": []
    },
    {
      "cell_type": "code",
      "metadata": {
        "colab": {
          "base_uri": "https://localhost:8080/",
          "height": 265
        },
        "id": "5sZwkUo17JvD",
        "outputId": "1b735724-f40c-4bd1-de7d-94c40dd6dbc5"
      },
      "source": [
        "decays = [0.1, 0.01, 0.001, 0.0001]\n",
        "lrate = 0.01\n",
        "n_updates = 200\n",
        "for decay in decays:\n",
        "  lrates = [decay_lrate(lrate, decay, i) for i in range(n_updates)]\n",
        "  plt.plot(lrates, label = str(decay))\n",
        "plt.legend()\n",
        "plt.show()"
      ],
      "execution_count": null,
      "outputs": [
        {
          "output_type": "display_data",
          "data": {
            "image/png": "[encoded data removed]",
            "text/plain": [
              "<Figure size 432x288 with 1 Axes>"
            ]
          },
          "metadata": {
            "tags": [],
            "needs_background": "light"
          }
        }
      ]
    },
    {
      "cell_type": "code",
      "metadata": {
        "id": "UWh_KhFV9AK0"
      },
      "source": [
        "def fit_model(trainX, trainy, testX, testy, decay):\n",
        "  # define model\n",
        "  model = keras.Sequential([    \n",
        "                           keras.layers.Dense(512, activation='relu', input_dim=128, kernel_regularizer= keras.regularizers.l2(0.001)),\n",
        "                           keras.layers.Dense(512, activation='relu',  input_dim=128, kernel_regularizer= keras.regularizers.l2(0.001)),\n",
        "                           keras.layers.Dense(7, activation='sigmoid')\n",
        "                           ])\n",
        "  # compile model\n",
        "  model.compile(loss='categorical_crossentropy', optimizer= keras.optimizers.SGD(learning_rate= 0.00001, decay= decay), metrics=['accuracy'])\n",
        "  # fit model\n",
        "  history = model.fit(trainX, trainy, validation_data=(testX, testy), epochs=20, verbose=0)\n",
        "  # plot learning curves\n",
        "  plt.plot(history.history['accuracy'], label='train')\n",
        "  plt.plot(history.history['val_accuracy'], label='test')\n",
        "  plt.title('decay='+str(decay), pad=-80)"
      ],
      "execution_count": null,
      "outputs": []
    },
    {
      "cell_type": "code",
      "metadata": {
        "colab": {
          "base_uri": "https://localhost:8080/",
          "height": 381
        },
        "id": "quCxAlOG9HkZ",
        "outputId": "88e62c07-0f05-411c-b549-4f60710020d1"
      },
      "source": [
        "decays = [0.1, 0.01, 0.001, 0.0001]\n",
        "for i in range (len(decays)):\n",
        "  # determine the plot number\n",
        "  plot_no = 420 + (i + 1)\n",
        "  plt.subplot(plot_no)\n",
        "  # fit model and plot learning curves for a learning rate\n",
        "  fit_model(trainX ,trainy ,testX ,testy ,decays[i])\n",
        "  # show learning curves\n",
        "  plt.show()"
      ],
      "execution_count": null,
      "outputs": [
        {
          "output_type": "display_data",
          "data": {
            "image/png": "[encoded data removed]",
            "text/plain": [
              "<Figure size 432x288 with 1 Axes>"
            ]
          },
          "metadata": {
            "tags": [],
            "needs_background": "light"
          }
        },
        {
          "output_type": "display_data",
          "data": {
            "image/png": "[encoded data removed]",
            "text/plain": [
              "<Figure size 432x288 with 1 Axes>"
            ]
          },
          "metadata": {
            "tags": [],
            "needs_background": "light"
          }
        },
        {
          "output_type": "display_data",
          "data": {
            "image/png": "[encoded data removed]",
            "text/plain": [
              "<Figure size 432x288 with 1 Axes>"
            ]
          },
          "metadata": {
            "tags": [],
            "needs_background": "light"
          }
        },
        {
          "output_type": "display_data",
          "data": {
            "image/png": "[encoded data removed]",
            "text/plain": [
              "<Figure size 432x288 with 1 Axes>"
            ]
          },
          "metadata": {
            "tags": [],
            "needs_background": "light"
          }
        }
      ]
    },
    {
      "cell_type": "markdown",
      "metadata": {
        "id": "qyHB5qBzOE1R"
      },
      "source": [
        "Le decay fixé à 0.01 est clairement le plus efficace (environ 0.95 d'accuracy et une concordance élevée entre le train et le test)"
      ]
    },
    {
      "cell_type": "markdown",
      "metadata": {
        "id": "T3fGW4BXHAz4"
      },
      "source": [
        "# Optimizer"
      ]
    },
    {
      "cell_type": "code",
      "metadata": {
        "id": "tvRzeRRc9l5a"
      },
      "source": [
        "def fit_model(trainX, trainy, testX, testy, optimizer):\n",
        "  # define model\n",
        "  model = keras.Sequential([    \n",
        "                           keras.layers.Dense(512, activation='relu', input_dim=128, kernel_regularizer= keras.regularizers.l2(0.001)),\n",
        "                           keras.layers.Dense(512, activation='relu',  input_dim=128, kernel_regularizer= keras.regularizers.l2(0.001)),\n",
        "                           keras.layers.Dense(7, activation='sigmoid')\n",
        "                           ])\n",
        "  # compile model\n",
        "  model.compile(loss='categorical_crossentropy', optimizer= optimizer, metrics=['accuracy'])\n",
        "  # fit model\n",
        "  history = model.fit(trainX, trainy, validation_data=(testX, testy), epochs=20, verbose=0)\n",
        "  # plot learning curves\n",
        "  plt.plot(history.history['accuracy'], label='train')\n",
        "  plt.plot(history.history['val_accuracy'], label='test')\n",
        "  plt.title('optimizer='+str(optimizer), pad=-80)"
      ],
      "execution_count": null,
      "outputs": []
    },
    {
      "cell_type": "code",
      "metadata": {
        "colab": {
          "base_uri": "https://localhost:8080/",
          "height": 381
        },
        "id": "464EUD1W-GGg",
        "outputId": "00a3534f-6bad-4fdb-c969-13807880c677"
      },
      "source": [
        "optimizers = ['RMSprop', 'AdaGrad', 'Adam', 'sgd']\n",
        "for i in range (len(optimizers)):\n",
        "  # determine the plot number\n",
        "  plot_no = 420 + (i + 1)\n",
        "  plt.subplot(plot_no)\n",
        "  # fit model and plot learning curves for a learning rate\n",
        "  fit_model(trainX ,trainy ,testX ,testy ,optimizers[i])\n",
        "  # show learning curves\n",
        "  plt.show()"
      ],
      "execution_count": null,
      "outputs": [
        {
          "output_type": "display_data",
          "data": {
            "image/png": "[encoded data removed]",
            "text/plain": [
              "<Figure size 432x288 with 1 Axes>"
            ]
          },
          "metadata": {
            "tags": [],
            "needs_background": "light"
          }
        },
        {
          "output_type": "display_data",
          "data": {
            "image/png": "[encoded data removed]",
            "text/plain": [
              "<Figure size 432x288 with 1 Axes>"
            ]
          },
          "metadata": {
            "tags": [],
            "needs_background": "light"
          }
        },
        {
          "output_type": "display_data",
          "data": {
            "image/png": "[encoded data removed]",
            "text/plain": [
              "<Figure size 432x288 with 1 Axes>"
            ]
          },
          "metadata": {
            "tags": [],
            "needs_background": "light"
          }
        },
        {
          "output_type": "display_data",
          "data": {
            "image/png": "[encoded data removed]",
            "text/plain": [
              "<Figure size 432x288 with 1 Axes>"
            ]
          },
          "metadata": {
            "tags": [],
            "needs_background": "light"
          }
        }
      ]
    },
    {
      "cell_type": "markdown",
      "metadata": {
        "id": "uZQMWlhkOWJ7"
      },
      "source": [
        "L'optimizer fixé à Adam est clairement le plus eficace (environ 0.95 d'accuracy)"
      ]
    },
    {
      "cell_type": "markdown",
      "metadata": {
        "id": "Q706mjFCHC-3"
      },
      "source": [
        "# Nous sélectionnons donc les hyperparamètres suivants : learning_rate = 1*E-5, momentum = 0, decay = 0.01 pour l'optimisation manuelle et optimizer = Adam pour l'optimisation automatique"
      ]
    },
    {
      "cell_type": "code",
      "metadata": {
        "id": "OyZgqTr-J_hW"
      },
      "source": [
        "model_manuel = keras.Sequential([\n",
        "    keras.layers.Dense(512, activation='relu', input_dim=128, kernel_regularizer= keras.regularizers.l2(0.001)),\n",
        "    keras.layers.Dense(512, activation='relu',  input_dim=128, kernel_regularizer= keras.regularizers.l2(0.001)),\n",
        "    keras.layers.Dense(7, activation='sigmoid')\n",
        "])\n",
        "model_manuel.compile(optimizer = keras.optimizers.SGD(learning_rate= 0.00001, decay= 0.01, momentum = 0),\n",
        "                       loss= 'categorical_crossentropy',\n",
        "                       metrics=['acc'])"
      ],
      "execution_count": null,
      "outputs": []
    },
    {
      "cell_type": "code",
      "metadata": {
        "id": "240V38KeLenE"
      },
      "source": [
        "model_auto = keras.Sequential([\n",
        "    keras.layers.Dense(512, activation='relu', input_dim=128, kernel_regularizer= keras.regularizers.l2(0.001)),\n",
        "    keras.layers.Dense(512, activation='relu',  input_dim=128, kernel_regularizer= keras.regularizers.l2(0.001)),\n",
        "    keras.layers.Dense(7, activation='sigmoid')\n",
        "])\n",
        "model_auto.compile(optimizer = 'Adam',\n",
        "                       loss= 'categorical_crossentropy',\n",
        "                       metrics=['acc'])"
      ],
      "execution_count": null,
      "outputs": []
    },
    {
      "cell_type": "code",
      "metadata": {
        "colab": {
          "base_uri": "https://localhost:8080/"
        },
        "id": "lTENFA_WLS-d",
        "outputId": "c82ad1bc-b382-4c8f-dfa9-ef2371713370"
      },
      "source": [
        "history_model_manuel = model_manuel.fit(trainX ,trainy , epochs = 20, batch_size = 512, validation_data=(testX, testy))"
      ],
      "execution_count": null,
      "outputs": [
        {
          "output_type": "stream",
          "text": [
            "Epoch 1/20\n",
            "18/18 [==============================] - 1s 27ms/step - loss: 15047.7208 - acc: 0.3222 - val_loss: 131.8255 - val_acc: 0.6361\n",
            "Epoch 2/20\n",
            "18/18 [==============================] - 0s 8ms/step - loss: 73.6633 - acc: 0.7794 - val_loss: 21.6090 - val_acc: 0.9039\n",
            "Epoch 3/20\n",
            "18/18 [==============================] - 0s 8ms/step - loss: 26.2335 - acc: 0.9011 - val_loss: 21.0579 - val_acc: 0.8895\n",
            "Epoch 4/20\n",
            "18/18 [==============================] - 0s 8ms/step - loss: 23.8744 - acc: 0.9131 - val_loss: 15.6219 - val_acc: 0.9173\n",
            "Epoch 5/20\n",
            "18/18 [==============================] - 0s 7ms/step - loss: 21.7698 - acc: 0.9201 - val_loss: 14.6516 - val_acc: 0.9173\n",
            "Epoch 6/20\n",
            "18/18 [==============================] - 0s 7ms/step - loss: 18.9628 - acc: 0.9233 - val_loss: 13.7094 - val_acc: 0.9322\n",
            "Epoch 7/20\n",
            "18/18 [==============================] - 0s 7ms/step - loss: 16.6194 - acc: 0.9349 - val_loss: 11.8552 - val_acc: 0.9259\n",
            "Epoch 8/20\n",
            "18/18 [==============================] - 0s 7ms/step - loss: 15.2081 - acc: 0.9344 - val_loss: 10.6163 - val_acc: 0.9420\n",
            "Epoch 9/20\n",
            "18/18 [==============================] - 0s 7ms/step - loss: 12.7243 - acc: 0.9362 - val_loss: 10.1587 - val_acc: 0.9429\n",
            "Epoch 10/20\n",
            "18/18 [==============================] - 0s 7ms/step - loss: 15.7873 - acc: 0.9475 - val_loss: 9.6107 - val_acc: 0.9281\n",
            "Epoch 11/20\n",
            "18/18 [==============================] - 0s 7ms/step - loss: 11.2475 - acc: 0.9351 - val_loss: 9.2143 - val_acc: 0.9223\n",
            "Epoch 12/20\n",
            "18/18 [==============================] - 0s 8ms/step - loss: 9.2185 - acc: 0.9417 - val_loss: 8.3296 - val_acc: 0.9344\n",
            "Epoch 13/20\n",
            "18/18 [==============================] - 0s 8ms/step - loss: 8.1293 - acc: 0.9422 - val_loss: 8.2866 - val_acc: 0.9272\n",
            "Epoch 14/20\n",
            "18/18 [==============================] - 0s 7ms/step - loss: 8.2623 - acc: 0.9456 - val_loss: 7.9297 - val_acc: 0.9380\n",
            "Epoch 15/20\n",
            "18/18 [==============================] - 0s 9ms/step - loss: 10.6871 - acc: 0.9469 - val_loss: 6.9735 - val_acc: 0.9425\n",
            "Epoch 16/20\n",
            "18/18 [==============================] - 0s 7ms/step - loss: 6.7569 - acc: 0.9478 - val_loss: 6.7018 - val_acc: 0.9479\n",
            "Epoch 17/20\n",
            "18/18 [==============================] - 0s 7ms/step - loss: 7.5880 - acc: 0.9499 - val_loss: 6.2988 - val_acc: 0.9461\n",
            "Epoch 18/20\n",
            "18/18 [==============================] - 0s 8ms/step - loss: 9.8977 - acc: 0.9470 - val_loss: 6.0052 - val_acc: 0.9470\n",
            "Epoch 19/20\n",
            "18/18 [==============================] - 0s 8ms/step - loss: 5.2253 - acc: 0.9528 - val_loss: 5.7869 - val_acc: 0.9434\n",
            "Epoch 20/20\n",
            "18/18 [==============================] - 0s 7ms/step - loss: 6.6427 - acc: 0.9509 - val_loss: 5.5863 - val_acc: 0.9474\n"
          ],
          "name": "stdout"
        }
      ]
    },
    {
      "cell_type": "code",
      "metadata": {
        "colab": {
          "base_uri": "https://localhost:8080/"
        },
        "id": "Iv9rJbEdLzKU",
        "outputId": "10fab7ba-eb99-4750-fcaa-5882654f8b99"
      },
      "source": [
        "history_model_auto = model_auto.fit(trainX ,trainy , epochs = 20, batch_size = 512, validation_data=(testX, testy))"
      ],
      "execution_count": null,
      "outputs": [
        {
          "output_type": "stream",
          "text": [
            "Epoch 1/20\n",
            "18/18 [==============================] - 1s 25ms/step - loss: 4968.8097 - acc: 0.4417 - val_loss: 860.7199 - val_acc: 0.6348\n",
            "Epoch 2/20\n",
            "18/18 [==============================] - 0s 7ms/step - loss: 559.9739 - acc: 0.7434 - val_loss: 142.6358 - val_acc: 0.8226\n",
            "Epoch 3/20\n",
            "18/18 [==============================] - 0s 7ms/step - loss: 101.4798 - acc: 0.8596 - val_loss: 59.4928 - val_acc: 0.9227\n",
            "Epoch 4/20\n",
            "18/18 [==============================] - 0s 7ms/step - loss: 61.4188 - acc: 0.9000 - val_loss: 30.1463 - val_acc: 0.9412\n",
            "Epoch 5/20\n",
            "18/18 [==============================] - 0s 7ms/step - loss: 23.6456 - acc: 0.9434 - val_loss: 38.2311 - val_acc: 0.9102\n",
            "Epoch 6/20\n",
            "18/18 [==============================] - 0s 7ms/step - loss: 36.5275 - acc: 0.9168 - val_loss: 37.7739 - val_acc: 0.8859\n",
            "Epoch 7/20\n",
            "18/18 [==============================] - 0s 8ms/step - loss: 30.6368 - acc: 0.9163 - val_loss: 105.8221 - val_acc: 0.8724\n",
            "Epoch 8/20\n",
            "18/18 [==============================] - 0s 7ms/step - loss: 58.9341 - acc: 0.8918 - val_loss: 23.8264 - val_acc: 0.9380\n",
            "Epoch 9/20\n",
            "18/18 [==============================] - 0s 7ms/step - loss: 38.7336 - acc: 0.9050 - val_loss: 34.6102 - val_acc: 0.8980\n",
            "Epoch 10/20\n",
            "18/18 [==============================] - 0s 8ms/step - loss: 94.5512 - acc: 0.8691 - val_loss: 78.2207 - val_acc: 0.8895\n",
            "Epoch 11/20\n",
            "18/18 [==============================] - 0s 8ms/step - loss: 59.6158 - acc: 0.9068 - val_loss: 19.4174 - val_acc: 0.9560\n",
            "Epoch 12/20\n",
            "18/18 [==============================] - 0s 7ms/step - loss: 21.7500 - acc: 0.9532 - val_loss: 24.5221 - val_acc: 0.9389\n",
            "Epoch 13/20\n",
            "18/18 [==============================] - 0s 8ms/step - loss: 26.8939 - acc: 0.9421 - val_loss: 21.7223 - val_acc: 0.9420\n",
            "Epoch 14/20\n",
            "18/18 [==============================] - 0s 7ms/step - loss: 17.7606 - acc: 0.9600 - val_loss: 9.1727 - val_acc: 0.9677\n",
            "Epoch 15/20\n",
            "18/18 [==============================] - 0s 7ms/step - loss: 15.5445 - acc: 0.9519 - val_loss: 12.1759 - val_acc: 0.9735\n",
            "Epoch 16/20\n",
            "18/18 [==============================] - 0s 8ms/step - loss: 10.0802 - acc: 0.9596 - val_loss: 11.3673 - val_acc: 0.9726\n",
            "Epoch 17/20\n",
            "18/18 [==============================] - 0s 8ms/step - loss: 15.2263 - acc: 0.9674 - val_loss: 14.4628 - val_acc: 0.9560\n",
            "Epoch 18/20\n",
            "18/18 [==============================] - 0s 8ms/step - loss: 36.8740 - acc: 0.9268 - val_loss: 22.2239 - val_acc: 0.9376\n",
            "Epoch 19/20\n",
            "18/18 [==============================] - 0s 8ms/step - loss: 12.0315 - acc: 0.9658 - val_loss: 7.5231 - val_acc: 0.9780\n",
            "Epoch 20/20\n",
            "18/18 [==============================] - 0s 8ms/step - loss: 9.5091 - acc: 0.9688 - val_loss: 33.8348 - val_acc: 0.9677\n"
          ],
          "name": "stdout"
        }
      ]
    },
    {
      "cell_type": "code",
      "metadata": {
        "colab": {
          "base_uri": "https://localhost:8080/"
        },
        "id": "eYUT70meLZdN",
        "outputId": "9f93c984-9e09-4b0e-f8e1-146c008ac5c2"
      },
      "source": [
        "test_loss_manuel, test_acc_manuel = model_manuel.evaluate(testX ,testy ,verbose = 2)"
      ],
      "execution_count": null,
      "outputs": [
        {
          "output_type": "stream",
          "text": [
            "70/70 - 0s - loss: 5.5863 - acc: 0.9474\n"
          ],
          "name": "stdout"
        }
      ]
    },
    {
      "cell_type": "code",
      "metadata": {
        "colab": {
          "base_uri": "https://localhost:8080/"
        },
        "id": "NKT2XJdQLmI3",
        "outputId": "1a1ca0fc-90da-4359-9ea5-5763abfd7624"
      },
      "source": [
        "test_loss_auto, test_acc_auto = model_auto.evaluate(testX ,testy ,verbose = 2)"
      ],
      "execution_count": null,
      "outputs": [
        {
          "output_type": "stream",
          "text": [
            "70/70 - 0s - loss: 33.8348 - acc: 0.9677\n"
          ],
          "name": "stdout"
        }
      ]
    },
    {
      "cell_type": "markdown",
      "metadata": {
        "id": "iaImsxZgMYWD"
      },
      "source": [
        "## On choisit donc l'optimisation automatique (accuracy plus élevée) !"
      ]
    },
    {
      "cell_type": "markdown",
      "metadata": {
        "id": "RXkhTuMNMRCs"
      },
      "source": [
        "# Application du modèle sur le dataset test"
      ]
    },
    {
      "cell_type": "code",
      "metadata": {
        "colab": {
          "resources": {
            "http://localhost:8080/nbextensions/google.colab/files.js": {
              "data": "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",
              "ok": true,
              "headers": [
                [
                  "content-type",
                  "application/javascript"
                ]
              ],
              "status": 200,
              "status_text": ""
            }
          },
          "base_uri": "https://localhost:8080/",
          "height": 73
        },
        "id": "L-EerrQlMQVU",
        "outputId": "1c722fd9-8e2f-4a5f-f075-9efd50f3f2b5"
      },
      "source": [
        "uploaded = files.upload()"
      ],
      "execution_count": null,
      "outputs": [
        {
          "output_type": "display_data",
          "data": {
            "text/html": [
              "\n",
              "     <input type=\"file\" id=\"files-1aa06180-21f9-4857-914d-087a176bb853\" name=\"files[]\" multiple disabled\n",
              "        style=\"border:none\" />\n",
              "     <output id=\"result-1aa06180-21f9-4857-914d-087a176bb853\">\n",
              "      Upload widget is only available when the cell has been executed in the\n",
              "      current browser session. Please rerun this cell to enable.\n",
              "      </output>\n",
              "      <script src=\"/nbextensions/google.colab/files.js\"></script> "
            ],
            "text/plain": [
              "<IPython.core.display.HTML object>"
            ]
          },
          "metadata": {
            "tags": []
          }
        },
        {
          "output_type": "stream",
          "text": [
            "Saving phpbL6t4U_test.csv to phpbL6t4U_test (1).csv\n"
          ],
          "name": "stdout"
        }
      ]
    },
    {
      "cell_type": "code",
      "metadata": {
        "id": "5yKO3xunMMrV"
      },
      "source": [
        "test = pd.read_csv(io.BytesIO(uploaded['phpbL6t4U_test.csv']), sep =',', header = None)"
      ],
      "execution_count": null,
      "outputs": []
    },
    {
      "cell_type": "code",
      "metadata": {
        "id": "PoS_k6IXPlJy"
      },
      "source": [
        "x = test.iloc[:,0:128]"
      ],
      "execution_count": null,
      "outputs": []
    },
    {
      "cell_type": "code",
      "metadata": {
        "id": "GfCoaNHfPlJz"
      },
      "source": [
        "y = test.iloc[:,-1]"
      ],
      "execution_count": null,
      "outputs": []
    },
    {
      "cell_type": "code",
      "metadata": {
        "id": "Y9V7EHJYPlJz"
      },
      "source": [
        "y = to_categorical(y)"
      ],
      "execution_count": null,
      "outputs": []
    },
    {
      "cell_type": "code",
      "metadata": {
        "colab": {
          "base_uri": "https://localhost:8080/"
        },
        "id": "1PIuXEwWPZ2j",
        "outputId": "7bd2f74b-7cbe-4252-d802-93fef0773d75"
      },
      "source": [
        "history_model_auto = model_auto.fit(x ,y , epochs = 20, batch_size = 512, validation_data=(testX, testy))"
      ],
      "execution_count": null,
      "outputs": [
        {
          "output_type": "stream",
          "text": [
            "Epoch 1/20\n",
            "6/6 [==============================] - 0s 18ms/step - loss: 37.8232 - acc: 0.9569\n",
            "Epoch 2/20\n",
            "6/6 [==============================] - 0s 10ms/step - loss: 29.4964 - acc: 0.9515\n",
            "Epoch 3/20\n",
            "6/6 [==============================] - 0s 10ms/step - loss: 35.1887 - acc: 0.9277\n",
            "Epoch 4/20\n",
            "6/6 [==============================] - 0s 10ms/step - loss: 20.8462 - acc: 0.9529\n",
            "Epoch 5/20\n",
            "6/6 [==============================] - 0s 10ms/step - loss: 22.9637 - acc: 0.9540\n",
            "Epoch 6/20\n",
            "6/6 [==============================] - 0s 10ms/step - loss: 21.5928 - acc: 0.9651\n",
            "Epoch 7/20\n",
            "6/6 [==============================] - 0s 11ms/step - loss: 17.9569 - acc: 0.9676\n",
            "Epoch 8/20\n",
            "6/6 [==============================] - 0s 13ms/step - loss: 17.2446 - acc: 0.9752\n",
            "Epoch 9/20\n",
            "6/6 [==============================] - 0s 11ms/step - loss: 16.4059 - acc: 0.9644\n",
            "Epoch 10/20\n",
            "6/6 [==============================] - 0s 10ms/step - loss: 22.7668 - acc: 0.9612\n",
            "Epoch 11/20\n",
            "6/6 [==============================] - 0s 10ms/step - loss: 29.2916 - acc: 0.9414\n",
            "Epoch 12/20\n",
            "6/6 [==============================] - 0s 10ms/step - loss: 26.6245 - acc: 0.9371\n",
            "Epoch 13/20\n",
            "6/6 [==============================] - 0s 10ms/step - loss: 32.3754 - acc: 0.9310\n",
            "Epoch 14/20\n",
            "6/6 [==============================] - 0s 10ms/step - loss: 22.4386 - acc: 0.9605\n",
            "Epoch 15/20\n",
            "6/6 [==============================] - 0s 10ms/step - loss: 16.4557 - acc: 0.9720\n",
            "Epoch 16/20\n",
            "6/6 [==============================] - 0s 10ms/step - loss: 7.3344 - acc: 0.9838\n",
            "Epoch 17/20\n",
            "6/6 [==============================] - 0s 10ms/step - loss: 8.7070 - acc: 0.9853\n",
            "Epoch 18/20\n",
            "6/6 [==============================] - 0s 11ms/step - loss: 7.5586 - acc: 0.9817\n",
            "Epoch 19/20\n",
            "6/6 [==============================] - 0s 10ms/step - loss: 12.0646 - acc: 0.9727\n",
            "Epoch 20/20\n",
            "6/6 [==============================] - 0s 10ms/step - loss: 13.7278 - acc: 0.9777\n"
          ],
          "name": "stdout"
        }
      ]
    },
    {
      "cell_type": "code",
      "metadata": {
        "colab": {
          "base_uri": "https://localhost:8080/"
        },
        "id": "IcEJjlq8Q7cP",
        "outputId": "950042a1-4a00-4061-88c8-22a6c83069c6"
      },
      "source": [
        "test_loss, test_acc = model_auto.evaluate(x ,y ,verbose = 2)"
      ],
      "execution_count": null,
      "outputs": [
        {
          "output_type": "stream",
          "text": [
            "87/87 - 0s - loss: 29.8070 - acc: 0.9745\n"
          ],
          "name": "stdout"
        }
      ]
    },
    {
      "cell_type": "markdown",
      "metadata": {
        "id": "nYFzuO5AREKo"
      },
      "source": [
        "# On obtient une accuracy de 0.9745 !"
      ]
    }
  ]
}